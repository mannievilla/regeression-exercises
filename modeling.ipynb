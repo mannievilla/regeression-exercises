{
 "cells": [
  {
   "cell_type": "markdown",
   "id": "c656ce40",
   "metadata": {},
   "source": [
    "# Do your work for this exercise in a jupyter notebook named modeling within the regression-exercises repo. Add, commit, and push your work."
   ]
  },
  {
   "cell_type": "code",
   "execution_count": 1,
   "id": "8bec5077",
   "metadata": {},
   "outputs": [],
   "source": [
    "# lets grab some imports to do our work:\n",
    "import numpy as np\n",
    "import pandas as pd\n",
    "# data source\n",
    "from pydataset import data\n",
    "# visualizations:\n",
    "import matplotlib.pyplot as plt\n",
    "import seaborn as sns\n",
    "# modeling:\n",
    "# data splitting:\n",
    "from sklearn.model_selection import train_test_split\n",
    "from sklearn.feature_selection import SelectKBest, f_regression\n",
    "from sklearn.linear_model import LinearRegression, TweedieRegressor, LassoLars\n",
    "from sklearn.metrics import mean_squared_error, explained_variance_score\n",
    "from sklearn.preprocessing import PolynomialFeatures"
   ]
  },
  {
   "cell_type": "code",
   "execution_count": 2,
   "id": "67eda490",
   "metadata": {},
   "outputs": [],
   "source": [
    "import warnings\n",
    "warnings.filterwarnings('ignore')"
   ]
  },
  {
   "cell_type": "code",
   "execution_count": 3,
   "id": "771c2e32",
   "metadata": {},
   "outputs": [],
   "source": [
    "# statistical testing:\n",
    "from scipy import stats"
   ]
  },
  {
   "cell_type": "markdown",
   "id": "c7d914a5",
   "metadata": {},
   "source": [
    "## 1. Select a dataset with a continuous target variable."
   ]
  },
  {
   "cell_type": "code",
   "execution_count": 4,
   "id": "130b8f6d",
   "metadata": {
    "scrolled": true
   },
   "outputs": [
    {
     "data": {
      "text/html": [
       "<div>\n",
       "<style scoped>\n",
       "    .dataframe tbody tr th:only-of-type {\n",
       "        vertical-align: middle;\n",
       "    }\n",
       "\n",
       "    .dataframe tbody tr th {\n",
       "        vertical-align: top;\n",
       "    }\n",
       "\n",
       "    .dataframe thead th {\n",
       "        text-align: right;\n",
       "    }\n",
       "</style>\n",
       "<table border=\"1\" class=\"dataframe\">\n",
       "  <thead>\n",
       "    <tr style=\"text-align: right;\">\n",
       "      <th></th>\n",
       "      <th>Fertility</th>\n",
       "      <th>Agriculture</th>\n",
       "      <th>Examination</th>\n",
       "      <th>Education</th>\n",
       "      <th>Catholic</th>\n",
       "      <th>Infant.Mortality</th>\n",
       "    </tr>\n",
       "  </thead>\n",
       "  <tbody>\n",
       "    <tr>\n",
       "      <th>Courtelary</th>\n",
       "      <td>80.2</td>\n",
       "      <td>17.0</td>\n",
       "      <td>15</td>\n",
       "      <td>12</td>\n",
       "      <td>9.96</td>\n",
       "      <td>22.2</td>\n",
       "    </tr>\n",
       "    <tr>\n",
       "      <th>Delemont</th>\n",
       "      <td>83.1</td>\n",
       "      <td>45.1</td>\n",
       "      <td>6</td>\n",
       "      <td>9</td>\n",
       "      <td>84.84</td>\n",
       "      <td>22.2</td>\n",
       "    </tr>\n",
       "    <tr>\n",
       "      <th>Franches-Mnt</th>\n",
       "      <td>92.5</td>\n",
       "      <td>39.7</td>\n",
       "      <td>5</td>\n",
       "      <td>5</td>\n",
       "      <td>93.40</td>\n",
       "      <td>20.2</td>\n",
       "    </tr>\n",
       "    <tr>\n",
       "      <th>Moutier</th>\n",
       "      <td>85.8</td>\n",
       "      <td>36.5</td>\n",
       "      <td>12</td>\n",
       "      <td>7</td>\n",
       "      <td>33.77</td>\n",
       "      <td>20.3</td>\n",
       "    </tr>\n",
       "    <tr>\n",
       "      <th>Neuveville</th>\n",
       "      <td>76.9</td>\n",
       "      <td>43.5</td>\n",
       "      <td>17</td>\n",
       "      <td>15</td>\n",
       "      <td>5.16</td>\n",
       "      <td>20.6</td>\n",
       "    </tr>\n",
       "  </tbody>\n",
       "</table>\n",
       "</div>"
      ],
      "text/plain": [
       "              Fertility  Agriculture  Examination  Education  Catholic  \\\n",
       "Courtelary         80.2         17.0           15         12      9.96   \n",
       "Delemont           83.1         45.1            6          9     84.84   \n",
       "Franches-Mnt       92.5         39.7            5          5     93.40   \n",
       "Moutier            85.8         36.5           12          7     33.77   \n",
       "Neuveville         76.9         43.5           17         15      5.16   \n",
       "\n",
       "              Infant.Mortality  \n",
       "Courtelary                22.2  \n",
       "Delemont                  22.2  \n",
       "Franches-Mnt              20.2  \n",
       "Moutier                   20.3  \n",
       "Neuveville                20.6  "
      ]
     },
     "execution_count": 4,
     "metadata": {},
     "output_type": "execute_result"
    }
   ],
   "source": [
    "df = data('swiss')\n",
    "df.head()"
   ]
  },
  {
   "cell_type": "code",
   "execution_count": 5,
   "id": "07b7d96f",
   "metadata": {},
   "outputs": [
    {
     "data": {
      "text/plain": [
       "47"
      ]
     },
     "execution_count": 5,
     "metadata": {},
     "output_type": "execute_result"
    }
   ],
   "source": [
    "len(df)"
   ]
  },
  {
   "cell_type": "code",
   "execution_count": 6,
   "id": "c1422173",
   "metadata": {},
   "outputs": [
    {
     "data": {
      "text/html": [
       "<div>\n",
       "<style scoped>\n",
       "    .dataframe tbody tr th:only-of-type {\n",
       "        vertical-align: middle;\n",
       "    }\n",
       "\n",
       "    .dataframe tbody tr th {\n",
       "        vertical-align: top;\n",
       "    }\n",
       "\n",
       "    .dataframe thead th {\n",
       "        text-align: right;\n",
       "    }\n",
       "</style>\n",
       "<table border=\"1\" class=\"dataframe\">\n",
       "  <thead>\n",
       "    <tr style=\"text-align: right;\">\n",
       "      <th></th>\n",
       "      <th>Fertility</th>\n",
       "      <th>Agriculture</th>\n",
       "      <th>Examination</th>\n",
       "      <th>Education</th>\n",
       "      <th>Catholic</th>\n",
       "      <th>Infant.Mortality</th>\n",
       "    </tr>\n",
       "  </thead>\n",
       "  <tbody>\n",
       "    <tr>\n",
       "      <th>count</th>\n",
       "      <td>47.000000</td>\n",
       "      <td>47.000000</td>\n",
       "      <td>47.000000</td>\n",
       "      <td>47.000000</td>\n",
       "      <td>47.00000</td>\n",
       "      <td>47.000000</td>\n",
       "    </tr>\n",
       "    <tr>\n",
       "      <th>mean</th>\n",
       "      <td>70.142553</td>\n",
       "      <td>50.659574</td>\n",
       "      <td>16.489362</td>\n",
       "      <td>10.978723</td>\n",
       "      <td>41.14383</td>\n",
       "      <td>19.942553</td>\n",
       "    </tr>\n",
       "    <tr>\n",
       "      <th>std</th>\n",
       "      <td>12.491697</td>\n",
       "      <td>22.711218</td>\n",
       "      <td>7.977883</td>\n",
       "      <td>9.615407</td>\n",
       "      <td>41.70485</td>\n",
       "      <td>2.912697</td>\n",
       "    </tr>\n",
       "    <tr>\n",
       "      <th>min</th>\n",
       "      <td>35.000000</td>\n",
       "      <td>1.200000</td>\n",
       "      <td>3.000000</td>\n",
       "      <td>1.000000</td>\n",
       "      <td>2.15000</td>\n",
       "      <td>10.800000</td>\n",
       "    </tr>\n",
       "    <tr>\n",
       "      <th>25%</th>\n",
       "      <td>64.700000</td>\n",
       "      <td>35.900000</td>\n",
       "      <td>12.000000</td>\n",
       "      <td>6.000000</td>\n",
       "      <td>5.19500</td>\n",
       "      <td>18.150000</td>\n",
       "    </tr>\n",
       "    <tr>\n",
       "      <th>50%</th>\n",
       "      <td>70.400000</td>\n",
       "      <td>54.100000</td>\n",
       "      <td>16.000000</td>\n",
       "      <td>8.000000</td>\n",
       "      <td>15.14000</td>\n",
       "      <td>20.000000</td>\n",
       "    </tr>\n",
       "    <tr>\n",
       "      <th>75%</th>\n",
       "      <td>78.450000</td>\n",
       "      <td>67.650000</td>\n",
       "      <td>22.000000</td>\n",
       "      <td>12.000000</td>\n",
       "      <td>93.12500</td>\n",
       "      <td>21.700000</td>\n",
       "    </tr>\n",
       "    <tr>\n",
       "      <th>max</th>\n",
       "      <td>92.500000</td>\n",
       "      <td>89.700000</td>\n",
       "      <td>37.000000</td>\n",
       "      <td>53.000000</td>\n",
       "      <td>100.00000</td>\n",
       "      <td>26.600000</td>\n",
       "    </tr>\n",
       "  </tbody>\n",
       "</table>\n",
       "</div>"
      ],
      "text/plain": [
       "       Fertility  Agriculture  Examination  Education   Catholic  \\\n",
       "count  47.000000    47.000000    47.000000  47.000000   47.00000   \n",
       "mean   70.142553    50.659574    16.489362  10.978723   41.14383   \n",
       "std    12.491697    22.711218     7.977883   9.615407   41.70485   \n",
       "min    35.000000     1.200000     3.000000   1.000000    2.15000   \n",
       "25%    64.700000    35.900000    12.000000   6.000000    5.19500   \n",
       "50%    70.400000    54.100000    16.000000   8.000000   15.14000   \n",
       "75%    78.450000    67.650000    22.000000  12.000000   93.12500   \n",
       "max    92.500000    89.700000    37.000000  53.000000  100.00000   \n",
       "\n",
       "       Infant.Mortality  \n",
       "count         47.000000  \n",
       "mean          19.942553  \n",
       "std            2.912697  \n",
       "min           10.800000  \n",
       "25%           18.150000  \n",
       "50%           20.000000  \n",
       "75%           21.700000  \n",
       "max           26.600000  "
      ]
     },
     "execution_count": 6,
     "metadata": {},
     "output_type": "execute_result"
    }
   ],
   "source": [
    "df.describe()\n"
   ]
  },
  {
   "cell_type": "markdown",
   "id": "25a55f4f",
   "metadata": {},
   "source": [
    "## 2. Be sure your data is prepared (no missing values, numeric datatypes) and split into samples."
   ]
  },
  {
   "cell_type": "code",
   "execution_count": 7,
   "id": "069767ad",
   "metadata": {},
   "outputs": [
    {
     "data": {
      "text/plain": [
       "47"
      ]
     },
     "execution_count": 7,
     "metadata": {},
     "output_type": "execute_result"
    }
   ],
   "source": [
    "df = df.dropna()\n",
    "len(df)"
   ]
  },
  {
   "cell_type": "code",
   "execution_count": 8,
   "id": "0a869604",
   "metadata": {},
   "outputs": [
    {
     "name": "stdout",
     "output_type": "stream",
     "text": [
      "<class 'pandas.core.frame.DataFrame'>\n",
      "Index: 47 entries, Courtelary to Rive Gauche\n",
      "Data columns (total 6 columns):\n",
      " #   Column            Non-Null Count  Dtype  \n",
      "---  ------            --------------  -----  \n",
      " 0   Fertility         47 non-null     float64\n",
      " 1   Agriculture       47 non-null     float64\n",
      " 2   Examination       47 non-null     int64  \n",
      " 3   Education         47 non-null     int64  \n",
      " 4   Catholic          47 non-null     float64\n",
      " 5   Infant.Mortality  47 non-null     float64\n",
      "dtypes: float64(4), int64(2)\n",
      "memory usage: 2.6+ KB\n"
     ]
    }
   ],
   "source": [
    "df.info()"
   ]
  },
  {
   "cell_type": "markdown",
   "id": "585a0c4b",
   "metadata": {},
   "source": [
    "## 3. Work through all of the steps outlined in the lesson, from setting the baseline to selected a model and evaluating the final model on your test data."
   ]
  },
  {
   "cell_type": "code",
   "execution_count": 9,
   "id": "1d88c61b",
   "metadata": {},
   "outputs": [],
   "source": [
    "# creating functions to get features under object items and numeric items\n",
    "\n",
    "def get_object_cols(df):\n",
    "    '''\n",
    "    This function takes in a dataframe and identifies the columns that are object types\n",
    "    and returns a list of those column names. \n",
    "    '''\n",
    "    # get a list of the column names that are objects (from the mask)\n",
    "    object_cols = df.select_dtypes(include=['object', 'category']).columns.tolist()\n",
    "    \n",
    "    return object_cols\n",
    "\n",
    "\n",
    "def get_numeric_cols(df):\n",
    "    '''\n",
    "    This function takes in a dataframe and identifies the columns that are object types\n",
    "    and returns a list of those column names. \n",
    "    '''\n",
    "    # get a list of the column names that are objects (from the mask)\n",
    "    num_cols = df.select_dtypes(exclude=['object', 'category']).columns.tolist()\n",
    "    \n",
    "    return num_cols"
   ]
  },
  {
   "cell_type": "code",
   "execution_count": 10,
   "id": "b228c46d",
   "metadata": {},
   "outputs": [],
   "source": [
    "obj_cols = get_object_cols(df)"
   ]
  },
  {
   "cell_type": "code",
   "execution_count": 11,
   "id": "b32fef15",
   "metadata": {},
   "outputs": [],
   "source": [
    "df_dummy = pd.get_dummies(columns=obj_cols, data=df)"
   ]
  },
  {
   "cell_type": "code",
   "execution_count": 12,
   "id": "941955b9",
   "metadata": {},
   "outputs": [
    {
     "data": {
      "text/plain": [
       "Index(['Fertility', 'Agriculture', 'Examination', 'Education', 'Catholic',\n",
       "       'Infant.Mortality'],\n",
       "      dtype='object')"
      ]
     },
     "execution_count": 12,
     "metadata": {},
     "output_type": "execute_result"
    }
   ],
   "source": [
    "df_dummy.columns"
   ]
  },
  {
   "cell_type": "code",
   "execution_count": 13,
   "id": "e1bac267",
   "metadata": {},
   "outputs": [
    {
     "data": {
      "text/html": [
       "<div>\n",
       "<style scoped>\n",
       "    .dataframe tbody tr th:only-of-type {\n",
       "        vertical-align: middle;\n",
       "    }\n",
       "\n",
       "    .dataframe tbody tr th {\n",
       "        vertical-align: top;\n",
       "    }\n",
       "\n",
       "    .dataframe thead th {\n",
       "        text-align: right;\n",
       "    }\n",
       "</style>\n",
       "<table border=\"1\" class=\"dataframe\">\n",
       "  <thead>\n",
       "    <tr style=\"text-align: right;\">\n",
       "      <th></th>\n",
       "      <th>Fertility</th>\n",
       "      <th>Agriculture</th>\n",
       "      <th>Examination</th>\n",
       "      <th>Education</th>\n",
       "      <th>Catholic</th>\n",
       "      <th>Infant.Mortality</th>\n",
       "    </tr>\n",
       "  </thead>\n",
       "  <tbody>\n",
       "    <tr>\n",
       "      <th>Courtelary</th>\n",
       "      <td>80.2</td>\n",
       "      <td>17.0</td>\n",
       "      <td>15</td>\n",
       "      <td>12</td>\n",
       "      <td>9.96</td>\n",
       "      <td>22.2</td>\n",
       "    </tr>\n",
       "    <tr>\n",
       "      <th>Delemont</th>\n",
       "      <td>83.1</td>\n",
       "      <td>45.1</td>\n",
       "      <td>6</td>\n",
       "      <td>9</td>\n",
       "      <td>84.84</td>\n",
       "      <td>22.2</td>\n",
       "    </tr>\n",
       "    <tr>\n",
       "      <th>Franches-Mnt</th>\n",
       "      <td>92.5</td>\n",
       "      <td>39.7</td>\n",
       "      <td>5</td>\n",
       "      <td>5</td>\n",
       "      <td>93.40</td>\n",
       "      <td>20.2</td>\n",
       "    </tr>\n",
       "    <tr>\n",
       "      <th>Moutier</th>\n",
       "      <td>85.8</td>\n",
       "      <td>36.5</td>\n",
       "      <td>12</td>\n",
       "      <td>7</td>\n",
       "      <td>33.77</td>\n",
       "      <td>20.3</td>\n",
       "    </tr>\n",
       "    <tr>\n",
       "      <th>Neuveville</th>\n",
       "      <td>76.9</td>\n",
       "      <td>43.5</td>\n",
       "      <td>17</td>\n",
       "      <td>15</td>\n",
       "      <td>5.16</td>\n",
       "      <td>20.6</td>\n",
       "    </tr>\n",
       "  </tbody>\n",
       "</table>\n",
       "</div>"
      ],
      "text/plain": [
       "              Fertility  Agriculture  Examination  Education  Catholic  \\\n",
       "Courtelary         80.2         17.0           15         12      9.96   \n",
       "Delemont           83.1         45.1            6          9     84.84   \n",
       "Franches-Mnt       92.5         39.7            5          5     93.40   \n",
       "Moutier            85.8         36.5           12          7     33.77   \n",
       "Neuveville         76.9         43.5           17         15      5.16   \n",
       "\n",
       "              Infant.Mortality  \n",
       "Courtelary                22.2  \n",
       "Delemont                  22.2  \n",
       "Franches-Mnt              20.2  \n",
       "Moutier                   20.3  \n",
       "Neuveville                20.6  "
      ]
     },
     "execution_count": 13,
     "metadata": {},
     "output_type": "execute_result"
    }
   ],
   "source": [
    "df_dummy.head()"
   ]
  },
  {
   "cell_type": "code",
   "execution_count": 14,
   "id": "bd113056",
   "metadata": {},
   "outputs": [],
   "source": [
    "#create a function to split our data\n",
    "def split_data(df):\n",
    "    '''\n",
    "    This function takes in a dataframe and splits the data,\n",
    "    returning three pandas dataframes, train, test, and validate\n",
    "    '''\n",
    "    \n",
    "    # Create train_validate and test datasets\n",
    "    train_validate, test = train_test_split(df, test_size=0.2, random_state=1349)\n",
    "    \n",
    "    # Create train and validate datsets\n",
    "    train, validate = train_test_split(train_validate, test_size=0.3, random_state=1349)\n",
    "\n",
    "    # Take a look at your split datasets\n",
    "\n",
    "    print(f\"\"\"\n",
    "    train -> {train.shape}\n",
    "    validate -> {validate.shape}\n",
    "    test -> {test.shape}\"\"\")\n",
    "    \n",
    "    return train, validate, test"
   ]
  },
  {
   "cell_type": "code",
   "execution_count": 15,
   "id": "9b939afc",
   "metadata": {},
   "outputs": [],
   "source": [
    "#create a function to isolate the target variable\n",
    "def X_y_split(df, target):\n",
    "    '''\n",
    "    This function takes in a dataframe and a target variable\n",
    "    Then it returns the X_train, y_train, X_validate, y_validate, X_test, y_test\n",
    "    and a print statement with the shape of the new dataframes\n",
    "    '''  \n",
    "    train, validate, test = split_data(df)\n",
    "\n",
    "    X_train = train.drop(columns= target)\n",
    "    y_train = train[target]\n",
    "\n",
    "    X_validate = validate.drop(columns= target)\n",
    "    y_validate = validate[target]\n",
    "\n",
    "    X_test = test.drop(columns= target)\n",
    "    y_test = test[target]\n",
    "        \n",
    "    # Have function print datasets shape\n",
    "    print(f'''\n",
    "    X_train -> {X_train.shape}\n",
    "    X_validate -> {X_validate.shape}\n",
    "    X_test -> {X_test.shape}''') \n",
    "    \n",
    "    return X_train, y_train, X_validate, y_validate, X_test, y_test"
   ]
  },
  {
   "cell_type": "code",
   "execution_count": 16,
   "id": "c4f3ee4b",
   "metadata": {
    "scrolled": true
   },
   "outputs": [
    {
     "name": "stdout",
     "output_type": "stream",
     "text": [
      "\n",
      "    train -> (25, 6)\n",
      "    validate -> (12, 6)\n",
      "    test -> (10, 6)\n"
     ]
    }
   ],
   "source": [
    "train, validate, test = split_data(df_dummy)"
   ]
  },
  {
   "cell_type": "code",
   "execution_count": 17,
   "id": "f407225a",
   "metadata": {},
   "outputs": [
    {
     "name": "stdout",
     "output_type": "stream",
     "text": [
      "\n",
      "    train -> (25, 6)\n",
      "    validate -> (12, 6)\n",
      "    test -> (10, 6)\n",
      "\n",
      "    X_train -> (25, 5)\n",
      "    X_validate -> (12, 5)\n",
      "    X_test -> (10, 5)\n"
     ]
    }
   ],
   "source": [
    "X_train, y_train, X_validate, y_validate, X_test, y_test = X_y_split(df_dummy, 'Infant.Mortality')"
   ]
  },
  {
   "cell_type": "markdown",
   "id": "84f0bf03",
   "metadata": {},
   "source": [
    "## checking distribution"
   ]
  },
  {
   "cell_type": "code",
   "execution_count": 18,
   "id": "c1bbd4ed",
   "metadata": {},
   "outputs": [
    {
     "data": {
      "text/html": [
       "<div>\n",
       "<style scoped>\n",
       "    .dataframe tbody tr th:only-of-type {\n",
       "        vertical-align: middle;\n",
       "    }\n",
       "\n",
       "    .dataframe tbody tr th {\n",
       "        vertical-align: top;\n",
       "    }\n",
       "\n",
       "    .dataframe thead th {\n",
       "        text-align: right;\n",
       "    }\n",
       "</style>\n",
       "<table border=\"1\" class=\"dataframe\">\n",
       "  <thead>\n",
       "    <tr style=\"text-align: right;\">\n",
       "      <th></th>\n",
       "      <th>Fertility</th>\n",
       "      <th>Agriculture</th>\n",
       "      <th>Examination</th>\n",
       "      <th>Education</th>\n",
       "      <th>Catholic</th>\n",
       "      <th>Infant.Mortality</th>\n",
       "    </tr>\n",
       "  </thead>\n",
       "  <tbody>\n",
       "    <tr>\n",
       "      <th>Le Locle</th>\n",
       "      <td>72.7</td>\n",
       "      <td>16.7</td>\n",
       "      <td>22</td>\n",
       "      <td>13</td>\n",
       "      <td>11.22</td>\n",
       "      <td>18.9</td>\n",
       "    </tr>\n",
       "    <tr>\n",
       "      <th>V. De Geneve</th>\n",
       "      <td>35.0</td>\n",
       "      <td>1.2</td>\n",
       "      <td>37</td>\n",
       "      <td>53</td>\n",
       "      <td>42.34</td>\n",
       "      <td>18.0</td>\n",
       "    </tr>\n",
       "    <tr>\n",
       "      <th>Broye</th>\n",
       "      <td>83.8</td>\n",
       "      <td>70.2</td>\n",
       "      <td>16</td>\n",
       "      <td>7</td>\n",
       "      <td>92.85</td>\n",
       "      <td>23.6</td>\n",
       "    </tr>\n",
       "    <tr>\n",
       "      <th>Nyone</th>\n",
       "      <td>56.6</td>\n",
       "      <td>50.9</td>\n",
       "      <td>22</td>\n",
       "      <td>12</td>\n",
       "      <td>15.14</td>\n",
       "      <td>16.7</td>\n",
       "    </tr>\n",
       "    <tr>\n",
       "      <th>Neuveville</th>\n",
       "      <td>76.9</td>\n",
       "      <td>43.5</td>\n",
       "      <td>17</td>\n",
       "      <td>15</td>\n",
       "      <td>5.16</td>\n",
       "      <td>20.6</td>\n",
       "    </tr>\n",
       "  </tbody>\n",
       "</table>\n",
       "</div>"
      ],
      "text/plain": [
       "              Fertility  Agriculture  Examination  Education  Catholic  \\\n",
       "Le Locle           72.7         16.7           22         13     11.22   \n",
       "V. De Geneve       35.0          1.2           37         53     42.34   \n",
       "Broye              83.8         70.2           16          7     92.85   \n",
       "Nyone              56.6         50.9           22         12     15.14   \n",
       "Neuveville         76.9         43.5           17         15      5.16   \n",
       "\n",
       "              Infant.Mortality  \n",
       "Le Locle                  18.9  \n",
       "V. De Geneve              18.0  \n",
       "Broye                     23.6  \n",
       "Nyone                     16.7  \n",
       "Neuveville                20.6  "
      ]
     },
     "execution_count": 18,
     "metadata": {},
     "output_type": "execute_result"
    }
   ],
   "source": [
    "train.head()"
   ]
  },
  {
   "cell_type": "code",
   "execution_count": 19,
   "id": "8e5a1779",
   "metadata": {},
   "outputs": [
    {
     "data": {
      "image/png": "[encoded data removed]",
      "text/plain": [
       "<Figure size 640x480 with 1 Axes>"
      ]
     },
     "metadata": {},
     "output_type": "display_data"
    }
   ],
   "source": [
    "plt.hist(y_train)\n",
    "# plt.xlabel(\"City\")\n",
    "# plt.ylabel(\"Number of Students\")\n",
    "plt.show()"
   ]
  },
  {
   "cell_type": "markdown",
   "id": "51c86c4e",
   "metadata": {},
   "source": [
    "# Scaling"
   ]
  },
  {
   "cell_type": "code",
   "execution_count": 20,
   "id": "ac811bf3",
   "metadata": {},
   "outputs": [],
   "source": [
    "from sklearn.preprocessing import MinMaxScaler"
   ]
  },
  {
   "cell_type": "code",
   "execution_count": 21,
   "id": "fed1bcfa",
   "metadata": {},
   "outputs": [],
   "source": [
    "def scale_data(train, \n",
    "               validate, \n",
    "               test, \n",
    "               to_scale):\n",
    "    #make copies for scaling\n",
    "    train_scaled = train.copy()\n",
    "    validate_scaled = validate.copy()\n",
    "    test_scaled = test.copy()\n",
    "\n",
    "    #scale them!\n",
    "    #make the thing\n",
    "    scaler = MinMaxScaler()\n",
    "\n",
    "    #fit the thing\n",
    "    scaler.fit(train[to_scale])\n",
    "\n",
    "    #use the thing\n",
    "    train_scaled[to_scale] = scaler.transform(train[to_scale])\n",
    "    validate_scaled[to_scale] = scaler.transform(validate[to_scale])\n",
    "    test_scaled[to_scale] = scaler.transform(test[to_scale])\n",
    "    \n",
    "    return train_scaled, validate_scaled, test_scaled"
   ]
  },
  {
   "cell_type": "code",
   "execution_count": 22,
   "id": "0dda5ded",
   "metadata": {},
   "outputs": [],
   "source": [
    "to_scale = X_train.columns.tolist()"
   ]
  },
  {
   "cell_type": "code",
   "execution_count": 23,
   "id": "9e1bcec9",
   "metadata": {},
   "outputs": [],
   "source": [
    "X_train_scaled, X_validate_scaled, X_test_scaled = scale_data(X_train, X_validate, X_test, to_scale)"
   ]
  },
  {
   "cell_type": "markdown",
   "id": "51a0013f",
   "metadata": {},
   "source": [
    "## Bivariate Data"
   ]
  },
  {
   "cell_type": "code",
   "execution_count": 24,
   "id": "7dc545fe",
   "metadata": {},
   "outputs": [
    {
     "data": {
      "text/plain": [
       "<seaborn.axisgrid.PairGrid at 0x143cbab00>"
      ]
     },
     "execution_count": 24,
     "metadata": {},
     "output_type": "execute_result"
    },
    {
     "data": {
      "image/png": "[encoded data removed]",
      "text/plain": [
       "<Figure size 1500x1500 with 42 Axes>"
      ]
     },
     "metadata": {},
     "output_type": "display_data"
    }
   ],
   "source": [
    "sns.pairplot(train)"
   ]
  },
  {
   "cell_type": "markdown",
   "id": "a145c73d",
   "metadata": {},
   "source": [
    "## Hypothesis Testing"
   ]
  },
  {
   "cell_type": "markdown",
   "id": "b281bd72",
   "metadata": {},
   "source": [
    "### Fertility vs Infant Mortaility"
   ]
  },
  {
   "cell_type": "code",
   "execution_count": 25,
   "id": "4f10f54f",
   "metadata": {},
   "outputs": [
    {
     "name": "stdout",
     "output_type": "stream",
     "text": [
      "The correlation coefficient ia 0.3581023820654395\n",
      "The p-value is 0.07880379979561662\n",
      "P is not less than alpha (0.05) and CANNOT reject the Null Hypothesis\n"
     ]
    }
   ],
   "source": [
    "# H0: There is no correlation between Fertility and Infant Mortality\n",
    "alpha = 0.05\n",
    "\n",
    "r, p = stats.pearsonr(train['Fertility'], train['Infant.Mortality'])\n",
    "\n",
    "print(f'The correlation coefficient ia {r}') # correlation coefficient measures the strength and direction of \n",
    "                                             # the linear relationship between two continuous variables.\n",
    "    \n",
    "print(f'The p-value is {p}')# f the p-value is less than the significance level \n",
    "\n",
    "if p < alpha:\n",
    "    print(f'P is less than alpha (0.05) and CAN reject the Null Hypothesis')\n",
    "else:\n",
    "    print(f'P is not less than alpha (0.05) and CANNOT reject the Null Hypothesis')"
   ]
  },
  {
   "cell_type": "markdown",
   "id": "9a94634d",
   "metadata": {},
   "source": [
    "### Catholic vs Infant Mortality"
   ]
  },
  {
   "cell_type": "code",
   "execution_count": 26,
   "id": "caf56d1a",
   "metadata": {},
   "outputs": [
    {
     "name": "stdout",
     "output_type": "stream",
     "text": [
      "The correlation coefficient ia -0.08321660646517849\n",
      "The p-value is 0.6924973275765579\n",
      "P is not less than alpha (0.05) and CANNOT reject the Null Hypothesis\n"
     ]
    }
   ],
   "source": [
    "# H0: There is no correlation between Catholic and Infant Mortality\n",
    "alpha = 0.05\n",
    "\n",
    "r, p = stats.pearsonr(train['Catholic'], train['Infant.Mortality'])\n",
    "\n",
    "print(f'The correlation coefficient ia {r}') # correlation coefficient measures the strength and direction of \n",
    "                                             # the linear relationship between two continuous variables.\n",
    "    \n",
    "print(f'The p-value is {p}')# f the p-value is less than the significance level \n",
    "\n",
    "if p < alpha:\n",
    "    print(f'P is less than alpha (0.05) and CAN reject the Null Hypothesis')\n",
    "else:\n",
    "    print(f'P is not less than alpha (0.05) and CANNOT reject the Null Hypothesis')"
   ]
  },
  {
   "cell_type": "markdown",
   "id": "7dcb5374",
   "metadata": {},
   "source": [
    "## Testing the features "
   ]
  },
  {
   "cell_type": "code",
   "execution_count": 27,
   "id": "796de27c",
   "metadata": {},
   "outputs": [],
   "source": [
    "from sklearn.feature_selection import RFE, SelectKBest, f_regression"
   ]
  },
  {
   "cell_type": "code",
   "execution_count": 28,
   "id": "16122c74",
   "metadata": {},
   "outputs": [],
   "source": [
    "#creating a funciton to use RFE\n",
    "def rfe_model(X_scaled, y, number_of_features):\n",
    "    \n",
    "    lm = LinearRegression()\n",
    "    \n",
    "    # MAKE the thing\n",
    "    rfe = RFE(lm, n_features_to_select=number_of_features) # the n_features_to_select= needs to have a value equal to\n",
    "    \n",
    "    # FIT the thing\n",
    "    rfe.fit(X_scaled, y)\n",
    "    \n",
    "    X_scaled.columns[rfe.support_].tolist()# .support the same as .get_support()\n",
    "    \n",
    "    return X_scaled.columns[rfe.support_].tolist()\n",
    "    "
   ]
  },
  {
   "cell_type": "code",
   "execution_count": 29,
   "id": "b76fccdf",
   "metadata": {},
   "outputs": [
    {
     "data": {
      "text/plain": [
       "['Fertility', 'Examination', 'Education']"
      ]
     },
     "execution_count": 29,
     "metadata": {},
     "output_type": "execute_result"
    }
   ],
   "source": [
    "rfe_model(X_train_scaled, y_train, 3)"
   ]
  },
  {
   "cell_type": "code",
   "execution_count": 30,
   "id": "2c3c89f5",
   "metadata": {},
   "outputs": [],
   "source": [
    "rfe_col = rfe_model(X_train_scaled, y_train, 3)"
   ]
  },
  {
   "cell_type": "code",
   "execution_count": 31,
   "id": "f19ee45f",
   "metadata": {},
   "outputs": [],
   "source": [
    "# creating the function\n",
    "# X = X_train_scaled, y = y_train, \n",
    "# number_of_features = number of features to select as top fatures\n",
    "\n",
    "def select_kbest(X_scaled, y, number_of_features):\n",
    "    \n",
    "    #MAKE the thing\n",
    "    kbest = SelectKBest(f_regression, k=number_of_features)\n",
    "\n",
    "    #FIT the thing\n",
    "    kbest.fit(X_scaled, y)\n",
    "    \n",
    "    \n",
    "    #create the mask\n",
    "    feature_mask = kbest.get_support()\n",
    "\n",
    "    #now we are going to ask for the column names of select k best top 2 features\n",
    "    X_scaled.columns[feature_mask]\n",
    "    \n",
    "    return X_scaled.columns[feature_mask]"
   ]
  },
  {
   "cell_type": "code",
   "execution_count": 32,
   "id": "aaeb30c4",
   "metadata": {},
   "outputs": [
    {
     "data": {
      "text/plain": [
       "Index(['Fertility', 'Examination', 'Education'], dtype='object')"
      ]
     },
     "execution_count": 32,
     "metadata": {},
     "output_type": "execute_result"
    }
   ],
   "source": [
    "select_kbest(X_train_scaled, y_train, 3)"
   ]
  },
  {
   "cell_type": "code",
   "execution_count": 33,
   "id": "872300eb",
   "metadata": {},
   "outputs": [],
   "source": [
    "kbest_col = select_kbest(X_train_scaled, y_train, 3).to_list()"
   ]
  },
  {
   "cell_type": "markdown",
   "id": "7446810d",
   "metadata": {},
   "source": [
    "## Modeling"
   ]
  },
  {
   "cell_type": "markdown",
   "id": "766f5b05",
   "metadata": {},
   "source": [
    "### Choosing the median or the mean for baseline"
   ]
  },
  {
   "cell_type": "markdown",
   "id": "b253c8b6",
   "metadata": {},
   "source": [
    "# Step 1"
   ]
  },
  {
   "cell_type": "code",
   "execution_count": 34,
   "id": "fe5158be",
   "metadata": {},
   "outputs": [],
   "source": [
    "# make y_train a DataFrame to abel to attach a new column\n",
    "y_train = pd.DataFrame(y_train)\n",
    "y_validate = pd.DataFrame(y_validate)"
   ]
  },
  {
   "cell_type": "markdown",
   "id": "7aedf578",
   "metadata": {},
   "source": [
    "# Step 2"
   ]
  },
  {
   "cell_type": "markdown",
   "id": "27b7ee68",
   "metadata": {},
   "source": [
    "### a. Apply to y_train data\n"
   ]
  },
  {
   "cell_type": "code",
   "execution_count": 35,
   "id": "199cfb91",
   "metadata": {},
   "outputs": [],
   "source": [
    "# adding the baseline column to dataframe usng the mean and meadian of infant moratility as features\n",
    "y_train['baseline_mean'] = y_train['Infant.Mortality'].mean()\n",
    "y_train['baseline_median'] = y_train['Infant.Mortality'].median()"
   ]
  },
  {
   "cell_type": "code",
   "execution_count": 36,
   "id": "954bf181",
   "metadata": {},
   "outputs": [
    {
     "name": "stdout",
     "output_type": "stream",
     "text": [
      "Mean wins\n"
     ]
    },
    {
     "data": {
      "text/html": [
       "<div>\n",
       "<style scoped>\n",
       "    .dataframe tbody tr th:only-of-type {\n",
       "        vertical-align: middle;\n",
       "    }\n",
       "\n",
       "    .dataframe tbody tr th {\n",
       "        vertical-align: top;\n",
       "    }\n",
       "\n",
       "    .dataframe thead th {\n",
       "        text-align: right;\n",
       "    }\n",
       "</style>\n",
       "<table border=\"1\" class=\"dataframe\">\n",
       "  <thead>\n",
       "    <tr style=\"text-align: right;\">\n",
       "      <th></th>\n",
       "      <th>Infant.Mortality</th>\n",
       "      <th>baseline_mean</th>\n",
       "      <th>baseline_median</th>\n",
       "    </tr>\n",
       "  </thead>\n",
       "  <tbody>\n",
       "    <tr>\n",
       "      <th>Le Locle</th>\n",
       "      <td>18.9</td>\n",
       "      <td>19.152</td>\n",
       "      <td>19.3</td>\n",
       "    </tr>\n",
       "    <tr>\n",
       "      <th>V. De Geneve</th>\n",
       "      <td>18.0</td>\n",
       "      <td>19.152</td>\n",
       "      <td>19.3</td>\n",
       "    </tr>\n",
       "    <tr>\n",
       "      <th>Broye</th>\n",
       "      <td>23.6</td>\n",
       "      <td>19.152</td>\n",
       "      <td>19.3</td>\n",
       "    </tr>\n",
       "    <tr>\n",
       "      <th>Nyone</th>\n",
       "      <td>16.7</td>\n",
       "      <td>19.152</td>\n",
       "      <td>19.3</td>\n",
       "    </tr>\n",
       "    <tr>\n",
       "      <th>Neuveville</th>\n",
       "      <td>20.6</td>\n",
       "      <td>19.152</td>\n",
       "      <td>19.3</td>\n",
       "    </tr>\n",
       "  </tbody>\n",
       "</table>\n",
       "</div>"
      ],
      "text/plain": [
       "              Infant.Mortality  baseline_mean  baseline_median\n",
       "Le Locle                  18.9         19.152             19.3\n",
       "V. De Geneve              18.0         19.152             19.3\n",
       "Broye                     23.6         19.152             19.3\n",
       "Nyone                     16.7         19.152             19.3\n",
       "Neuveville                20.6         19.152             19.3"
      ]
     },
     "metadata": {},
     "output_type": "display_data"
    }
   ],
   "source": [
    "# scores:\n",
    "rmse_mean = mean_squared_error(y_train['Infant.Mortality'],\n",
    "                               y_train['baseline_mean'], squared=False) ** .5\n",
    "rmse_med = mean_squared_error(y_train['Infant.Mortality'],\n",
    "                               y_train['baseline_median'], squared=False) ** .5\n",
    "\n",
    "rmse_mean, rmse_med\n",
    "\n",
    "if rmse_mean < rmse_med:\n",
    "    print(f'Mean wins')\n",
    "    display(y_train.head())\n",
    "else:\n",
    "    print(f'Median wins')\n",
    "    display(y_train.head())"
   ]
  },
  {
   "cell_type": "markdown",
   "id": "2b02a2bc",
   "metadata": {},
   "source": [
    "### b. Apply to y_validate data"
   ]
  },
  {
   "cell_type": "code",
   "execution_count": 37,
   "id": "4115fc1d",
   "metadata": {},
   "outputs": [],
   "source": [
    "y_validate['baseline_mean'] = y_train['Infant.Mortality'].mean()\n",
    "\n",
    "y_validate['baseline_median'] = y_train['Infant.Mortality'].median()"
   ]
  },
  {
   "cell_type": "markdown",
   "id": "bef27ea7",
   "metadata": {},
   "source": [
    "---"
   ]
  },
  {
   "cell_type": "code",
   "execution_count": 38,
   "id": "b2acfcc9",
   "metadata": {},
   "outputs": [
    {
     "data": {
      "text/html": [
       "<div>\n",
       "<style scoped>\n",
       "    .dataframe tbody tr th:only-of-type {\n",
       "        vertical-align: middle;\n",
       "    }\n",
       "\n",
       "    .dataframe tbody tr th {\n",
       "        vertical-align: top;\n",
       "    }\n",
       "\n",
       "    .dataframe thead th {\n",
       "        text-align: right;\n",
       "    }\n",
       "</style>\n",
       "<table border=\"1\" class=\"dataframe\">\n",
       "  <thead>\n",
       "    <tr style=\"text-align: right;\">\n",
       "      <th></th>\n",
       "      <th>Infant.Mortality</th>\n",
       "      <th>baseline_mean</th>\n",
       "      <th>baseline_median</th>\n",
       "    </tr>\n",
       "  </thead>\n",
       "  <tbody>\n",
       "    <tr>\n",
       "      <th>Courtelary</th>\n",
       "      <td>22.2</td>\n",
       "      <td>19.152</td>\n",
       "      <td>19.3</td>\n",
       "    </tr>\n",
       "  </tbody>\n",
       "</table>\n",
       "</div>"
      ],
      "text/plain": [
       "            Infant.Mortality  baseline_mean  baseline_median\n",
       "Courtelary              22.2         19.152             19.3"
      ]
     },
     "execution_count": 38,
     "metadata": {},
     "output_type": "execute_result"
    }
   ],
   "source": [
    "y_validate.head(1)"
   ]
  },
  {
   "cell_type": "code",
   "execution_count": 39,
   "id": "ec2de000",
   "metadata": {},
   "outputs": [
    {
     "data": {
      "text/html": [
       "<div>\n",
       "<style scoped>\n",
       "    .dataframe tbody tr th:only-of-type {\n",
       "        vertical-align: middle;\n",
       "    }\n",
       "\n",
       "    .dataframe tbody tr th {\n",
       "        vertical-align: top;\n",
       "    }\n",
       "\n",
       "    .dataframe thead th {\n",
       "        text-align: right;\n",
       "    }\n",
       "</style>\n",
       "<table border=\"1\" class=\"dataframe\">\n",
       "  <thead>\n",
       "    <tr style=\"text-align: right;\">\n",
       "      <th></th>\n",
       "      <th>Infant.Mortality</th>\n",
       "      <th>baseline_mean</th>\n",
       "      <th>baseline_median</th>\n",
       "    </tr>\n",
       "  </thead>\n",
       "  <tbody>\n",
       "    <tr>\n",
       "      <th>Le Locle</th>\n",
       "      <td>18.9</td>\n",
       "      <td>19.152</td>\n",
       "      <td>19.3</td>\n",
       "    </tr>\n",
       "  </tbody>\n",
       "</table>\n",
       "</div>"
      ],
      "text/plain": [
       "          Infant.Mortality  baseline_mean  baseline_median\n",
       "Le Locle              18.9         19.152             19.3"
      ]
     },
     "execution_count": 39,
     "metadata": {},
     "output_type": "execute_result"
    }
   ],
   "source": [
    "y_train.head(1)"
   ]
  },
  {
   "cell_type": "markdown",
   "id": "60cb5f50",
   "metadata": {},
   "source": [
    "# RMSE of Mean baseline"
   ]
  },
  {
   "cell_type": "markdown",
   "id": "e9c6fa83",
   "metadata": {},
   "source": [
    "# Step 3"
   ]
  },
  {
   "cell_type": "code",
   "execution_count": 40,
   "id": "72ebb83f",
   "metadata": {},
   "outputs": [
    {
     "name": "stdout",
     "output_type": "stream",
     "text": [
      "RMSE using Mean\n",
      "Train/In-Sample: 2.89 \n",
      "Validate/Out-of-Sample: 2.38\n"
     ]
    }
   ],
   "source": [
    "rmse_train_mean = mean_squared_error(y_train['Infant.Mortality'], y_train.baseline_mean) ** .5\n",
    "\n",
    "rmse_validate_mean = mean_squared_error(y_validate['Infant.Mortality'], y_validate.baseline_mean) ** .5\n",
    "\n",
    "print(f\"\"\"RMSE using Mean\\nTrain/In-Sample: {round(rmse_train_mean, 2)} \n",
    "Validate/Out-of-Sample: {round(rmse_validate_mean, 2)}\"\"\")"
   ]
  },
  {
   "cell_type": "code",
   "execution_count": 41,
   "id": "12074fd4",
   "metadata": {},
   "outputs": [],
   "source": [
    "# Let's house our metrics in a df to later compare\n",
    "metric_df = pd.DataFrame(data = [\n",
    "        {\n",
    "            \"model\": \"mean_baseline\",\n",
    "            \"RMSE_train\": rmse_train_mean,\n",
    "            \"RMSE_validate\":rmse_validate_mean,\n",
    "            \"R2_validate\": explained_variance_score(y_validate['Infant.Mortality'], y_validate.baseline_mean)\n",
    "        }\n",
    "])"
   ]
  },
  {
   "cell_type": "code",
   "execution_count": 42,
   "id": "012c1fea",
   "metadata": {},
   "outputs": [
    {
     "name": "stdout",
     "output_type": "stream",
     "text": [
      "RMSE using Mean\n",
      "Train/In-Sample: 2.89 \n",
      "Validate/Out-of-Sample: 2.34\n"
     ]
    }
   ],
   "source": [
    "rmse_train_median = mean_squared_error(y_train['Infant.Mortality'], y_train.baseline_median) ** .5\n",
    "\n",
    "rmse_validate_median = mean_squared_error(y_validate['Infant.Mortality'], y_validate.baseline_median) ** .5\n",
    "\n",
    "print(f\"\"\"RMSE using Mean\\nTrain/In-Sample: {round(rmse_train_median, 2)} \n",
    "Validate/Out-of-Sample: {round(rmse_validate_median, 2)}\"\"\")"
   ]
  },
  {
   "cell_type": "markdown",
   "id": "35db6f1f",
   "metadata": {},
   "source": [
    "# Step 4"
   ]
  },
  {
   "cell_type": "code",
   "execution_count": 43,
   "id": "cf4eb3a6",
   "metadata": {},
   "outputs": [],
   "source": [
    "# Let's house our metrics in a df to later compare\n",
    "metric_df = pd.DataFrame(data = [\n",
    "        {\n",
    "            \"model\": \"median_baseline\",\n",
    "            \"RMSE_train\": rmse_train_mean,\n",
    "            \"RMSE_validate\":rmse_validate_mean,\n",
    "            \"R2_validate\": explained_variance_score(y_validate['Infant.Mortality'], y_validate.baseline_mean)\n",
    "        }\n",
    "])"
   ]
  },
  {
   "cell_type": "code",
   "execution_count": 44,
   "id": "ceca539d",
   "metadata": {},
   "outputs": [
    {
     "data": {
      "text/html": [
       "<div>\n",
       "<style scoped>\n",
       "    .dataframe tbody tr th:only-of-type {\n",
       "        vertical-align: middle;\n",
       "    }\n",
       "\n",
       "    .dataframe tbody tr th {\n",
       "        vertical-align: top;\n",
       "    }\n",
       "\n",
       "    .dataframe thead th {\n",
       "        text-align: right;\n",
       "    }\n",
       "</style>\n",
       "<table border=\"1\" class=\"dataframe\">\n",
       "  <thead>\n",
       "    <tr style=\"text-align: right;\">\n",
       "      <th></th>\n",
       "      <th>model</th>\n",
       "      <th>RMSE_train</th>\n",
       "      <th>RMSE_validate</th>\n",
       "      <th>R2_validate</th>\n",
       "    </tr>\n",
       "  </thead>\n",
       "  <tbody>\n",
       "    <tr>\n",
       "      <th>0</th>\n",
       "      <td>median_baseline</td>\n",
       "      <td>2.887645</td>\n",
       "      <td>2.384562</td>\n",
       "      <td>0.0</td>\n",
       "    </tr>\n",
       "  </tbody>\n",
       "</table>\n",
       "</div>"
      ],
      "text/plain": [
       "             model  RMSE_train  RMSE_validate  R2_validate\n",
       "0  median_baseline    2.887645       2.384562          0.0"
      ]
     },
     "execution_count": 44,
     "metadata": {},
     "output_type": "execute_result"
    }
   ],
   "source": [
    "metric_df"
   ]
  },
  {
   "cell_type": "code",
   "execution_count": 45,
   "id": "06b9bdbc",
   "metadata": {},
   "outputs": [
    {
     "data": {
      "image/png": "[encoded data removed]",
      "text/plain": [
       "<Figure size 640x480 with 1 Axes>"
      ]
     },
     "metadata": {},
     "output_type": "display_data"
    }
   ],
   "source": [
    "# plot to visualize actual vs predicted. \n",
    "\n",
    "plt.hist(y_train['Infant.Mortality'], color='blue', alpha=.5, label=\"Infant Mortality\") # label adds the legen label\n",
    "plt.hist(y_train.baseline_mean, bins=1, color='red', alpha=.5,  label=\"Predicted Mean\")\n",
    "#plt.hist(y_train.G3_pred_median, bins=1, color='orange', alpha=.5, label=\"Predicted Final Grades - Median\")\n",
    "plt.xlabel(\"Infant Mortality\")\n",
    "plt.ylabel(\"Predicted Mean\")\n",
    "plt.legend()\n",
    "plt.show()"
   ]
  },
  {
   "cell_type": "markdown",
   "id": "28918d27",
   "metadata": {},
   "source": [
    "# LinearRegression (OLS)"
   ]
  },
  {
   "cell_type": "code",
   "execution_count": 46,
   "id": "96c2a94f",
   "metadata": {},
   "outputs": [],
   "source": [
    "# MAKE THE THING: create the model object\n",
    "lm = LinearRegression()\n",
    "\n",
    "#1. FIT THE THING: fit the model to training data\n",
    "OLSmodel = lm.fit(X_train, y_train['Infant.Mortality'])\n",
    "\n",
    "#2. USE THE THING: make a prediction\n",
    "y_train['mortaility_pred_lm'] = lm.predict(X_train)\n",
    "\n",
    "#3. Evaluate: RMSE\n",
    "rmse_train = mean_squared_error(y_train['Infant.Mortality'], y_train.mortaility_pred_lm) ** .5"
   ]
  },
  {
   "cell_type": "code",
   "execution_count": 47,
   "id": "92e4f43a",
   "metadata": {},
   "outputs": [
    {
     "data": {
      "text/html": [
       "<div>\n",
       "<style scoped>\n",
       "    .dataframe tbody tr th:only-of-type {\n",
       "        vertical-align: middle;\n",
       "    }\n",
       "\n",
       "    .dataframe tbody tr th {\n",
       "        vertical-align: top;\n",
       "    }\n",
       "\n",
       "    .dataframe thead th {\n",
       "        text-align: right;\n",
       "    }\n",
       "</style>\n",
       "<table border=\"1\" class=\"dataframe\">\n",
       "  <thead>\n",
       "    <tr style=\"text-align: right;\">\n",
       "      <th></th>\n",
       "      <th>Infant.Mortality</th>\n",
       "      <th>baseline_mean</th>\n",
       "      <th>baseline_median</th>\n",
       "      <th>mortaility_pred_lm</th>\n",
       "    </tr>\n",
       "  </thead>\n",
       "  <tbody>\n",
       "    <tr>\n",
       "      <th>Le Locle</th>\n",
       "      <td>18.9</td>\n",
       "      <td>19.152</td>\n",
       "      <td>19.3</td>\n",
       "      <td>19.875059</td>\n",
       "    </tr>\n",
       "  </tbody>\n",
       "</table>\n",
       "</div>"
      ],
      "text/plain": [
       "          Infant.Mortality  baseline_mean  baseline_median  mortaility_pred_lm\n",
       "Le Locle              18.9         19.152             19.3           19.875059"
      ]
     },
     "execution_count": 47,
     "metadata": {},
     "output_type": "execute_result"
    }
   ],
   "source": [
    "y_train.head(1)"
   ]
  },
  {
   "cell_type": "code",
   "execution_count": 48,
   "id": "cf4686e3",
   "metadata": {},
   "outputs": [
    {
     "name": "stdout",
     "output_type": "stream",
     "text": [
      "RMSE for OLS using LinearRegression\n",
      "Training/In-Sample:  2.463295499124062 \n",
      "Validation/Out-of-Sample: 2.649474561762487\n"
     ]
    }
   ],
   "source": [
    "#4. REPEAT STEPS 2-3\n",
    "\n",
    "# predict validate\n",
    "y_validate['mortaility_pred_lm'] = lm.predict(X_validate)\n",
    "\n",
    "# evaluate: RMSE\n",
    "rmse_validate = mean_squared_error(y_validate['Infant.Mortality'], y_validate.mortaility_pred_lm) ** .5\n",
    "\n",
    "print(f\"\"\"RMSE for OLS using LinearRegression\n",
    "Training/In-Sample:  {rmse_train} \n",
    "Validation/Out-of-Sample: {rmse_validate}\"\"\")"
   ]
  },
  {
   "cell_type": "code",
   "execution_count": 49,
   "id": "a3131e33",
   "metadata": {},
   "outputs": [],
   "source": [
    "#Append this to the metric_df\n",
    "\n",
    "metric_df = metric_df.append({\n",
    "    \"model\":\"OLS Regressor\",\n",
    "    \"RMSE_train\": rmse_train,\n",
    "    \"RMSE_validate\": rmse_validate,\n",
    "    \"R2_validate\": explained_variance_score(y_validate['Infant.Mortality'], y_validate.mortaility_pred_lm)\n",
    "}, ignore_index=True)"
   ]
  },
  {
   "cell_type": "code",
   "execution_count": 50,
   "id": "8a5082d5",
   "metadata": {},
   "outputs": [
    {
     "data": {
      "text/html": [
       "<div>\n",
       "<style scoped>\n",
       "    .dataframe tbody tr th:only-of-type {\n",
       "        vertical-align: middle;\n",
       "    }\n",
       "\n",
       "    .dataframe tbody tr th {\n",
       "        vertical-align: top;\n",
       "    }\n",
       "\n",
       "    .dataframe thead th {\n",
       "        text-align: right;\n",
       "    }\n",
       "</style>\n",
       "<table border=\"1\" class=\"dataframe\">\n",
       "  <thead>\n",
       "    <tr style=\"text-align: right;\">\n",
       "      <th></th>\n",
       "      <th>model</th>\n",
       "      <th>RMSE_train</th>\n",
       "      <th>RMSE_validate</th>\n",
       "      <th>R2_validate</th>\n",
       "    </tr>\n",
       "  </thead>\n",
       "  <tbody>\n",
       "    <tr>\n",
       "      <th>0</th>\n",
       "      <td>median_baseline</td>\n",
       "      <td>2.887645</td>\n",
       "      <td>2.384562</td>\n",
       "      <td>0.00000</td>\n",
       "    </tr>\n",
       "    <tr>\n",
       "      <th>1</th>\n",
       "      <td>OLS Regressor</td>\n",
       "      <td>2.463295</td>\n",
       "      <td>2.649475</td>\n",
       "      <td>-0.31361</td>\n",
       "    </tr>\n",
       "  </tbody>\n",
       "</table>\n",
       "</div>"
      ],
      "text/plain": [
       "             model  RMSE_train  RMSE_validate  R2_validate\n",
       "0  median_baseline    2.887645       2.384562      0.00000\n",
       "1    OLS Regressor    2.463295       2.649475     -0.31361"
      ]
     },
     "execution_count": 50,
     "metadata": {},
     "output_type": "execute_result"
    }
   ],
   "source": [
    "metric_df"
   ]
  },
  {
   "cell_type": "markdown",
   "id": "f3664a70",
   "metadata": {},
   "source": [
    "# LassoLars "
   ]
  },
  {
   "cell_type": "code",
   "execution_count": 51,
   "id": "7556fb0f",
   "metadata": {},
   "outputs": [
    {
     "name": "stdout",
     "output_type": "stream",
     "text": [
      "RMSE for Lasso + Lars\n",
      "_____________________\n",
      "Training/In-Sample: 2.511330133133229, \n",
      "Validation/Out-of-Sample:  2.4134229949271386\n",
      "Difference:  -0.09790713820609032\n"
     ]
    }
   ],
   "source": [
    "# MAKE THE THING: create the model object\n",
    "lars = LassoLars(alpha=1.0) # you can loop through for higher values to chane som hyperparameters\n",
    "\n",
    "#1. FIT THE THING: fit the model to training data\n",
    "# We must specify the column in y_train, since we have converted it to a dataframe from a series!\n",
    "lars.fit(X_train, y_train['Infant.Mortality'])\n",
    "\n",
    "#2. USE THE THING: make a prediction\n",
    "y_train['mortaility_pred_lars'] = lars.predict(X_train)\n",
    "\n",
    "#3. Evaluate: RMSE\n",
    "rmse_train = mean_squared_error(y_train['Infant.Mortality'], y_train.mortaility_pred_lars) ** (1/2)\n",
    "\n",
    "#4. REPEAT STEPS 2-3\n",
    "\n",
    "# predict validate\n",
    "y_validate['mortaility_pred_lars'] = lars.predict(X_validate)\n",
    "\n",
    "# evaluate: RMSE\n",
    "rmse_validate = mean_squared_error(y_validate['Infant.Mortality'], y_validate.mortaility_pred_lars) ** (1/2)\n",
    "\n",
    "print(f\"\"\"RMSE for Lasso + Lars\n",
    "_____________________\n",
    "Training/In-Sample: {rmse_train}, \n",
    "Validation/Out-of-Sample:  {rmse_validate}\n",
    "Difference:  {rmse_validate - rmse_train}\"\"\")"
   ]
  },
  {
   "cell_type": "code",
   "execution_count": 52,
   "id": "53bd0ff6",
   "metadata": {},
   "outputs": [],
   "source": [
    "#Append this to the metric_df\n",
    "\n",
    "metric_df = metric_df.append({\n",
    "    \"model\":\"LassoLars\",\n",
    "    \"RMSE_train\": rmse_train,\n",
    "    \"RMSE_validate\": rmse_validate,\n",
    "    \"R2_validate\": explained_variance_score(y_validate['Infant.Mortality'], y_validate.mortaility_pred_lars)\n",
    "}, ignore_index=True)"
   ]
  },
  {
   "cell_type": "code",
   "execution_count": 53,
   "id": "979f4856",
   "metadata": {},
   "outputs": [
    {
     "data": {
      "text/html": [
       "<div>\n",
       "<style scoped>\n",
       "    .dataframe tbody tr th:only-of-type {\n",
       "        vertical-align: middle;\n",
       "    }\n",
       "\n",
       "    .dataframe tbody tr th {\n",
       "        vertical-align: top;\n",
       "    }\n",
       "\n",
       "    .dataframe thead th {\n",
       "        text-align: right;\n",
       "    }\n",
       "</style>\n",
       "<table border=\"1\" class=\"dataframe\">\n",
       "  <thead>\n",
       "    <tr style=\"text-align: right;\">\n",
       "      <th></th>\n",
       "      <th>model</th>\n",
       "      <th>RMSE_train</th>\n",
       "      <th>RMSE_validate</th>\n",
       "      <th>R2_validate</th>\n",
       "    </tr>\n",
       "  </thead>\n",
       "  <tbody>\n",
       "    <tr>\n",
       "      <th>0</th>\n",
       "      <td>median_baseline</td>\n",
       "      <td>2.887645</td>\n",
       "      <td>2.384562</td>\n",
       "      <td>0.000000</td>\n",
       "    </tr>\n",
       "    <tr>\n",
       "      <th>1</th>\n",
       "      <td>OLS Regressor</td>\n",
       "      <td>2.463295</td>\n",
       "      <td>2.649475</td>\n",
       "      <td>-0.313610</td>\n",
       "    </tr>\n",
       "    <tr>\n",
       "      <th>2</th>\n",
       "      <td>LassoLars</td>\n",
       "      <td>2.511330</td>\n",
       "      <td>2.413423</td>\n",
       "      <td>-0.075051</td>\n",
       "    </tr>\n",
       "  </tbody>\n",
       "</table>\n",
       "</div>"
      ],
      "text/plain": [
       "             model  RMSE_train  RMSE_validate  R2_validate\n",
       "0  median_baseline    2.887645       2.384562     0.000000\n",
       "1    OLS Regressor    2.463295       2.649475    -0.313610\n",
       "2        LassoLars    2.511330       2.413423    -0.075051"
      ]
     },
     "execution_count": 53,
     "metadata": {},
     "output_type": "execute_result"
    }
   ],
   "source": [
    "metric_df"
   ]
  },
  {
   "cell_type": "markdown",
   "id": "a5dbc2da",
   "metadata": {},
   "source": [
    "# TweedieRegressor\n"
   ]
  },
  {
   "cell_type": "code",
   "execution_count": 54,
   "id": "aa7a3de3",
   "metadata": {},
   "outputs": [
    {
     "data": {
      "image/png": "[encoded data removed]",
      "text/plain": [
       "<Figure size 640x480 with 1 Axes>"
      ]
     },
     "metadata": {},
     "output_type": "display_data"
    }
   ],
   "source": [
    "plt.hist(train['Infant.Mortality'])\n",
    "plt.show()"
   ]
  },
  {
   "cell_type": "code",
   "execution_count": 55,
   "id": "f544eaba",
   "metadata": {},
   "outputs": [
    {
     "name": "stdout",
     "output_type": "stream",
     "text": [
      "RMSE for GLM using Tweedie, power=1 & alpha=0\n",
      "_____________________\n",
      "Training/In-Sample: 2.462195784852402, \n",
      "Validation/Out-of-Sample:  2.671423509660655\n",
      "Difference:  0.2092277248082528\n"
     ]
    }
   ],
   "source": [
    "# MAKE THE THING: create the model object\n",
    "glm = TweedieRegressor(power=1, alpha=0) # loop through to change the power and alpha\n",
    "\n",
    "#1. FIT THE THING: fit the model to training data\n",
    "# We must specify the column in y_train, since we have converted it to a dataframe from a series!\n",
    "glm.fit(X_train, y_train['Infant.Mortality'])\n",
    "\n",
    "#2. USE THE THING: make a prediction\n",
    "y_train['mortaility_pred_glm'] = glm.predict(X_train)\n",
    "\n",
    "#3. Evaluate: RMSE\n",
    "rmse_train = mean_squared_error(y_train['Infant.Mortality'], y_train.mortaility_pred_glm) ** .5\n",
    "\n",
    "#4. REPEAT STEPS 2-3\n",
    "\n",
    "# predict validate\n",
    "y_validate['mortaility_pred_glm'] = glm.predict(X_validate)\n",
    "\n",
    "# evaluate: RMSE\n",
    "rmse_validate = mean_squared_error(y_validate['Infant.Mortality'], y_validate.mortaility_pred_glm) ** .5\n",
    "\n",
    "print(f\"\"\"RMSE for GLM using Tweedie, power=1 & alpha=0\n",
    "_____________________\n",
    "Training/In-Sample: {rmse_train}, \n",
    "Validation/Out-of-Sample:  {rmse_validate}\n",
    "Difference:  {rmse_validate - rmse_train}\"\"\")"
   ]
  },
  {
   "cell_type": "code",
   "execution_count": 56,
   "id": "3bcd74fc",
   "metadata": {},
   "outputs": [],
   "source": [
    "#Append this to the metric_df\n",
    "\n",
    "metric_df = metric_df.append({\n",
    "    \"model\":\"Tweedie\",\n",
    "    \"RMSE_train\": rmse_train,\n",
    "    \"RMSE_validate\": rmse_validate,\n",
    "    \"R2_validate\": explained_variance_score(y_validate['Infant.Mortality'], y_validate.mortaility_pred_glm)\n",
    "}, ignore_index=True)"
   ]
  },
  {
   "cell_type": "code",
   "execution_count": 57,
   "id": "f2983e2e",
   "metadata": {},
   "outputs": [
    {
     "data": {
      "text/html": [
       "<div>\n",
       "<style scoped>\n",
       "    .dataframe tbody tr th:only-of-type {\n",
       "        vertical-align: middle;\n",
       "    }\n",
       "\n",
       "    .dataframe tbody tr th {\n",
       "        vertical-align: top;\n",
       "    }\n",
       "\n",
       "    .dataframe thead th {\n",
       "        text-align: right;\n",
       "    }\n",
       "</style>\n",
       "<table border=\"1\" class=\"dataframe\">\n",
       "  <thead>\n",
       "    <tr style=\"text-align: right;\">\n",
       "      <th></th>\n",
       "      <th>model</th>\n",
       "      <th>RMSE_train</th>\n",
       "      <th>RMSE_validate</th>\n",
       "      <th>R2_validate</th>\n",
       "    </tr>\n",
       "  </thead>\n",
       "  <tbody>\n",
       "    <tr>\n",
       "      <th>0</th>\n",
       "      <td>median_baseline</td>\n",
       "      <td>2.887645</td>\n",
       "      <td>2.384562</td>\n",
       "      <td>0.000000</td>\n",
       "    </tr>\n",
       "    <tr>\n",
       "      <th>1</th>\n",
       "      <td>OLS Regressor</td>\n",
       "      <td>2.463295</td>\n",
       "      <td>2.649475</td>\n",
       "      <td>-0.313610</td>\n",
       "    </tr>\n",
       "    <tr>\n",
       "      <th>2</th>\n",
       "      <td>LassoLars</td>\n",
       "      <td>2.511330</td>\n",
       "      <td>2.413423</td>\n",
       "      <td>-0.075051</td>\n",
       "    </tr>\n",
       "    <tr>\n",
       "      <th>3</th>\n",
       "      <td>Tweedie</td>\n",
       "      <td>2.462196</td>\n",
       "      <td>2.671424</td>\n",
       "      <td>-0.336047</td>\n",
       "    </tr>\n",
       "  </tbody>\n",
       "</table>\n",
       "</div>"
      ],
      "text/plain": [
       "             model  RMSE_train  RMSE_validate  R2_validate\n",
       "0  median_baseline    2.887645       2.384562     0.000000\n",
       "1    OLS Regressor    2.463295       2.649475    -0.313610\n",
       "2        LassoLars    2.511330       2.413423    -0.075051\n",
       "3          Tweedie    2.462196       2.671424    -0.336047"
      ]
     },
     "execution_count": 57,
     "metadata": {},
     "output_type": "execute_result"
    }
   ],
   "source": [
    "metric_df"
   ]
  },
  {
   "cell_type": "markdown",
   "id": "b072d402",
   "metadata": {},
   "source": [
    "# Polynomial Regression"
   ]
  },
  {
   "cell_type": "code",
   "execution_count": 58,
   "id": "3cee5307",
   "metadata": {},
   "outputs": [],
   "source": [
    "#1. Create the polynomial features to get a new set of features\n",
    "pf = PolynomialFeatures(degree=2) #Quadratic aka x-squared\n",
    "\n",
    "#1. Fit and transform X_train_scaled\n",
    "X_train_degree2 = pf.fit_transform(X_train)\n",
    "\n",
    "#1. Transform X_validate_scaled & X_test_scaled \n",
    "X_validate_degree2 = pf.transform(X_validate)\n",
    "X_test_degree2 = pf.transform(X_test)\n"
   ]
  },
  {
   "cell_type": "code",
   "execution_count": 59,
   "id": "22a3a35d",
   "metadata": {},
   "outputs": [
    {
     "name": "stdout",
     "output_type": "stream",
     "text": [
      "RMSE for Polynomial Model, degrees=2\n",
      "_____________________________________________\n",
      "Training/In-Sample:  0.5763417238354483 \n",
      "Validation/Out-of-Sample:  7.2539773102987315\n"
     ]
    }
   ],
   "source": [
    "#2.1 MAKE THE THING: create the model object\n",
    "lm2 = LinearRegression()\n",
    "\n",
    "#2.2 FIT THE THING: fit the model to our training data. We must specify the column in y_train, \n",
    "# since we have converted it to a dataframe from a series! \n",
    "lm2.fit(X_train_degree2, y_train['Infant.Mortality'])\n",
    "\n",
    "#3. USE THE THING: predict train\n",
    "y_train['mortaility_pred_lm2'] = lm2.predict(X_train_degree2)\n",
    "\n",
    "#4. Evaluate: rmse\n",
    "rmse_train = mean_squared_error(y_train['Infant.Mortality'], y_train.mortaility_pred_lm2) ** .5\n",
    "\n",
    "#5. REPEAT STEPS 3-4\n",
    "\n",
    "# predict validate\n",
    "y_validate['mortaility_pred_lm2'] = lm2.predict(X_validate_degree2)\n",
    "\n",
    "# evaluate: rmse\n",
    "rmse_validate = mean_squared_error(y_validate['Infant.Mortality'], y_validate.mortaility_pred_lm2) ** .5\n",
    "\n",
    "print(f\"\"\"RMSE for Polynomial Model, degrees=2\n",
    "_____________________________________________\n",
    "Training/In-Sample:  {rmse_train} \n",
    "Validation/Out-of-Sample:  {rmse_validate}\"\"\")"
   ]
  },
  {
   "cell_type": "code",
   "execution_count": 60,
   "id": "06c3a6bb",
   "metadata": {},
   "outputs": [],
   "source": [
    "#Append\n",
    "metric_df = metric_df.append({\n",
    "    \"model\":\"Polynomial\",\n",
    "    \"RMSE_train\": rmse_train,\n",
    "    \"RMSE_validate\": rmse_validate,\n",
    "    \"R2_validate\": explained_variance_score(y_validate['Infant.Mortality'], y_validate.mortaility_pred_lm2)\n",
    "}, ignore_index=True)"
   ]
  },
  {
   "cell_type": "code",
   "execution_count": 61,
   "id": "ad0f7ef7",
   "metadata": {},
   "outputs": [
    {
     "data": {
      "text/html": [
       "<div>\n",
       "<style scoped>\n",
       "    .dataframe tbody tr th:only-of-type {\n",
       "        vertical-align: middle;\n",
       "    }\n",
       "\n",
       "    .dataframe tbody tr th {\n",
       "        vertical-align: top;\n",
       "    }\n",
       "\n",
       "    .dataframe thead th {\n",
       "        text-align: right;\n",
       "    }\n",
       "</style>\n",
       "<table border=\"1\" class=\"dataframe\">\n",
       "  <thead>\n",
       "    <tr style=\"text-align: right;\">\n",
       "      <th></th>\n",
       "      <th>model</th>\n",
       "      <th>RMSE_train</th>\n",
       "      <th>RMSE_validate</th>\n",
       "      <th>R2_validate</th>\n",
       "    </tr>\n",
       "  </thead>\n",
       "  <tbody>\n",
       "    <tr>\n",
       "      <th>0</th>\n",
       "      <td>median_baseline</td>\n",
       "      <td>2.887645</td>\n",
       "      <td>2.384562</td>\n",
       "      <td>0.000000</td>\n",
       "    </tr>\n",
       "    <tr>\n",
       "      <th>1</th>\n",
       "      <td>OLS Regressor</td>\n",
       "      <td>2.463295</td>\n",
       "      <td>2.649475</td>\n",
       "      <td>-0.313610</td>\n",
       "    </tr>\n",
       "    <tr>\n",
       "      <th>2</th>\n",
       "      <td>LassoLars</td>\n",
       "      <td>2.511330</td>\n",
       "      <td>2.413423</td>\n",
       "      <td>-0.075051</td>\n",
       "    </tr>\n",
       "    <tr>\n",
       "      <th>3</th>\n",
       "      <td>Tweedie</td>\n",
       "      <td>2.462196</td>\n",
       "      <td>2.671424</td>\n",
       "      <td>-0.336047</td>\n",
       "    </tr>\n",
       "    <tr>\n",
       "      <th>4</th>\n",
       "      <td>Polynomial</td>\n",
       "      <td>0.576342</td>\n",
       "      <td>7.253977</td>\n",
       "      <td>-8.661849</td>\n",
       "    </tr>\n",
       "  </tbody>\n",
       "</table>\n",
       "</div>"
      ],
      "text/plain": [
       "             model  RMSE_train  RMSE_validate  R2_validate\n",
       "0  median_baseline    2.887645       2.384562     0.000000\n",
       "1    OLS Regressor    2.463295       2.649475    -0.313610\n",
       "2        LassoLars    2.511330       2.413423    -0.075051\n",
       "3          Tweedie    2.462196       2.671424    -0.336047\n",
       "4       Polynomial    0.576342       7.253977    -8.661849"
      ]
     },
     "execution_count": 61,
     "metadata": {},
     "output_type": "execute_result"
    }
   ],
   "source": [
    "metric_df"
   ]
  },
  {
   "cell_type": "markdown",
   "id": "e3d19e14",
   "metadata": {},
   "source": [
    "# Evaluate\n",
    "\n",
    " ### Plotting Actual vs. Predicted Values"
   ]
  },
  {
   "cell_type": "code",
   "execution_count": 62,
   "id": "795a63de",
   "metadata": {},
   "outputs": [
    {
     "data": {
      "text/html": [
       "<div>\n",
       "<style scoped>\n",
       "    .dataframe tbody tr th:only-of-type {\n",
       "        vertical-align: middle;\n",
       "    }\n",
       "\n",
       "    .dataframe tbody tr th {\n",
       "        vertical-align: top;\n",
       "    }\n",
       "\n",
       "    .dataframe thead th {\n",
       "        text-align: right;\n",
       "    }\n",
       "</style>\n",
       "<table border=\"1\" class=\"dataframe\">\n",
       "  <thead>\n",
       "    <tr style=\"text-align: right;\">\n",
       "      <th></th>\n",
       "      <th>Infant.Mortality</th>\n",
       "      <th>baseline_mean</th>\n",
       "      <th>baseline_median</th>\n",
       "      <th>mortaility_pred_lm</th>\n",
       "      <th>mortaility_pred_lars</th>\n",
       "      <th>mortaility_pred_glm</th>\n",
       "      <th>mortaility_pred_lm2</th>\n",
       "    </tr>\n",
       "  </thead>\n",
       "  <tbody>\n",
       "    <tr>\n",
       "      <th>Courtelary</th>\n",
       "      <td>22.2</td>\n",
       "      <td>19.152</td>\n",
       "      <td>19.3</td>\n",
       "      <td>21.739147</td>\n",
       "      <td>21.064516</td>\n",
       "      <td>21.783861</td>\n",
       "      <td>24.383735</td>\n",
       "    </tr>\n",
       "    <tr>\n",
       "      <th>Vevey</th>\n",
       "      <td>20.9</td>\n",
       "      <td>19.152</td>\n",
       "      <td>19.3</td>\n",
       "      <td>18.189940</td>\n",
       "      <td>18.465648</td>\n",
       "      <td>18.143879</td>\n",
       "      <td>21.069595</td>\n",
       "    </tr>\n",
       "    <tr>\n",
       "      <th>Delemont</th>\n",
       "      <td>22.2</td>\n",
       "      <td>19.152</td>\n",
       "      <td>19.3</td>\n",
       "      <td>20.438349</td>\n",
       "      <td>19.949798</td>\n",
       "      <td>20.379571</td>\n",
       "      <td>27.009355</td>\n",
       "    </tr>\n",
       "    <tr>\n",
       "      <th>Aubonne</th>\n",
       "      <td>19.1</td>\n",
       "      <td>19.152</td>\n",
       "      <td>19.3</td>\n",
       "      <td>20.244794</td>\n",
       "      <td>19.764040</td>\n",
       "      <td>20.214306</td>\n",
       "      <td>19.603321</td>\n",
       "    </tr>\n",
       "    <tr>\n",
       "      <th>Aigle</th>\n",
       "      <td>16.5</td>\n",
       "      <td>19.152</td>\n",
       "      <td>19.3</td>\n",
       "      <td>19.613184</td>\n",
       "      <td>19.534353</td>\n",
       "      <td>19.580099</td>\n",
       "      <td>19.777758</td>\n",
       "    </tr>\n",
       "  </tbody>\n",
       "</table>\n",
       "</div>"
      ],
      "text/plain": [
       "            Infant.Mortality  baseline_mean  baseline_median  \\\n",
       "Courtelary              22.2         19.152             19.3   \n",
       "Vevey                   20.9         19.152             19.3   \n",
       "Delemont                22.2         19.152             19.3   \n",
       "Aubonne                 19.1         19.152             19.3   \n",
       "Aigle                   16.5         19.152             19.3   \n",
       "\n",
       "            mortaility_pred_lm  mortaility_pred_lars  mortaility_pred_glm  \\\n",
       "Courtelary           21.739147             21.064516            21.783861   \n",
       "Vevey                18.189940             18.465648            18.143879   \n",
       "Delemont             20.438349             19.949798            20.379571   \n",
       "Aubonne              20.244794             19.764040            20.214306   \n",
       "Aigle                19.613184             19.534353            19.580099   \n",
       "\n",
       "            mortaility_pred_lm2  \n",
       "Courtelary            24.383735  \n",
       "Vevey                 21.069595  \n",
       "Delemont              27.009355  \n",
       "Aubonne               19.603321  \n",
       "Aigle                 19.777758  "
      ]
     },
     "execution_count": 62,
     "metadata": {},
     "output_type": "execute_result"
    }
   ],
   "source": [
    "y_validate.head()"
   ]
  },
  {
   "cell_type": "code",
   "execution_count": 63,
   "id": "9f9f0be2",
   "metadata": {},
   "outputs": [
    {
     "data": {
      "image/png": "[encoded data removed]",
      "text/plain": [
       "<Figure size 1600x800 with 1 Axes>"
      ]
     },
     "metadata": {},
     "output_type": "display_data"
    }
   ],
   "source": [
    "plt.figure(figsize=(16,8))\n",
    "#actual vs mean\n",
    "plt.plot(y_validate['Infant.Mortality'], y_validate.baseline_mean, alpha=.5, color=\"gray\", label='_nolegend_')\n",
    "plt.annotate(\"Baseline: Predict Using Mean\", (16, 9.5))\n",
    "\n",
    "#actual vs. actual\n",
    "plt.plot(y_validate['Infant.Mortality'], y_validate['Infant.Mortality'], alpha=.5, color=\"blue\", label='_nolegend_')\n",
    "plt.annotate(\"The Ideal Line: Predicted = Actual\", (.5, 3.5), rotation=15.5)\n",
    "\n",
    "#actual vs. LinearReg model\n",
    "# plt.scatter(y_validate['Infant.Mortality'], y_validate.mortaility_pred_lm, \n",
    "#             alpha=.5, color=\"red\", s=100, label=\"Model: LinearRegression\")\n",
    "#actual vs. LassoLars model\n",
    "plt.scatter(y_validate['Infant.Mortality'], y_validate.mortaility_pred_lars, \n",
    "            alpha=.5, color=\"purple\", s=100, label=\"Model: Lasso Lars\")\n",
    "#actual vs. Tweedie/GenLinModel\n",
    "plt.scatter(y_validate['Infant.Mortality'], y_validate.mortaility_pred_glm, \n",
    "            alpha=.5, color=\"yellow\", s=100, label=\"Model: TweedieRegressor\")\n",
    "#actual vs. PolynomReg/Quadratic\n",
    "# plt.scatter(y_validate['Infant.Mortality'], y_validate.mortaility_pred_lm2, \n",
    "#             alpha=.5, color=\"green\", s=100, label=\"Model 2nd degree Polynomial\")\n",
    "plt.legend()\n",
    "plt.xlabel(\"Actual\")\n",
    "plt.ylabel(\"Predicted\")\n",
    "plt.title(\"Where are predictions more extreme? More modest?\")\n",
    "plt.show()"
   ]
  },
  {
   "cell_type": "code",
   "execution_count": 64,
   "id": "d580dab8",
   "metadata": {},
   "outputs": [
    {
     "data": {
      "text/plain": [
       "12"
      ]
     },
     "execution_count": 64,
     "metadata": {},
     "output_type": "execute_result"
    }
   ],
   "source": [
    "len(y_validate)"
   ]
  },
  {
   "cell_type": "code",
   "execution_count": 65,
   "id": "cb4c5290",
   "metadata": {},
   "outputs": [],
   "source": [
    "# removed the worst performing models"
   ]
  },
  {
   "cell_type": "code",
   "execution_count": 66,
   "id": "90ae35d3",
   "metadata": {},
   "outputs": [
    {
     "data": {
      "image/png": "[encoded data removed]",
      "text/plain": [
       "<Figure size 1600x800 with 1 Axes>"
      ]
     },
     "metadata": {},
     "output_type": "display_data"
    }
   ],
   "source": [
    "# plot to visualize actual vs predicted. \n",
    "plt.figure(figsize=(16,8))\n",
    "\n",
    "plt.hist(y_validate['Infant.Mortality'], color='orange', alpha=.5, label=\"Actual\")\n",
    "# plt.hist(y_validate.mortaility_pred_lm, color='red', alpha=.5, label=\"Model: LinearRegression\")\n",
    "plt.hist(y_validate.mortaility_pred_lars, color='purple', alpha=.5, label=\"Model: Lasso Lars\")\n",
    "plt.hist(y_validate.mortaility_pred_glm, color='yellow', alpha=.5, label=\"Model: TweedieRegressor\")\n",
    "# plt.hist(y_validate.mortaility_pred_lm2, color='green', alpha=.5, label=\"Model 2nd degree Polynomial\")\n",
    "\n",
    "plt.xlabel(\"Actual\")\n",
    "plt.ylabel(\"Number\")\n",
    "plt.title(\"Comparing the Distribution of Infant Mortality to Predicted Mortality\")\n",
    "plt.legend()\n",
    "plt.show()"
   ]
  },
  {
   "cell_type": "code",
   "execution_count": 67,
   "id": "e84ac4d9",
   "metadata": {},
   "outputs": [
    {
     "data": {
      "text/html": [
       "<div>\n",
       "<style scoped>\n",
       "    .dataframe tbody tr th:only-of-type {\n",
       "        vertical-align: middle;\n",
       "    }\n",
       "\n",
       "    .dataframe tbody tr th {\n",
       "        vertical-align: top;\n",
       "    }\n",
       "\n",
       "    .dataframe thead th {\n",
       "        text-align: right;\n",
       "    }\n",
       "</style>\n",
       "<table border=\"1\" class=\"dataframe\">\n",
       "  <thead>\n",
       "    <tr style=\"text-align: right;\">\n",
       "      <th></th>\n",
       "      <th>model</th>\n",
       "      <th>RMSE_train</th>\n",
       "      <th>RMSE_validate</th>\n",
       "      <th>R2_validate</th>\n",
       "    </tr>\n",
       "  </thead>\n",
       "  <tbody>\n",
       "    <tr>\n",
       "      <th>0</th>\n",
       "      <td>median_baseline</td>\n",
       "      <td>2.887645</td>\n",
       "      <td>2.384562</td>\n",
       "      <td>0.000000</td>\n",
       "    </tr>\n",
       "    <tr>\n",
       "      <th>1</th>\n",
       "      <td>OLS Regressor</td>\n",
       "      <td>2.463295</td>\n",
       "      <td>2.649475</td>\n",
       "      <td>-0.313610</td>\n",
       "    </tr>\n",
       "    <tr>\n",
       "      <th>2</th>\n",
       "      <td>LassoLars</td>\n",
       "      <td>2.511330</td>\n",
       "      <td>2.413423</td>\n",
       "      <td>-0.075051</td>\n",
       "    </tr>\n",
       "    <tr>\n",
       "      <th>3</th>\n",
       "      <td>Tweedie</td>\n",
       "      <td>2.462196</td>\n",
       "      <td>2.671424</td>\n",
       "      <td>-0.336047</td>\n",
       "    </tr>\n",
       "    <tr>\n",
       "      <th>4</th>\n",
       "      <td>Polynomial</td>\n",
       "      <td>0.576342</td>\n",
       "      <td>7.253977</td>\n",
       "      <td>-8.661849</td>\n",
       "    </tr>\n",
       "  </tbody>\n",
       "</table>\n",
       "</div>"
      ],
      "text/plain": [
       "             model  RMSE_train  RMSE_validate  R2_validate\n",
       "0  median_baseline    2.887645       2.384562     0.000000\n",
       "1    OLS Regressor    2.463295       2.649475    -0.313610\n",
       "2        LassoLars    2.511330       2.413423    -0.075051\n",
       "3          Tweedie    2.462196       2.671424    -0.336047\n",
       "4       Polynomial    0.576342       7.253977    -8.661849"
      ]
     },
     "execution_count": 67,
     "metadata": {},
     "output_type": "execute_result"
    }
   ],
   "source": [
    "metric_df"
   ]
  },
  {
   "cell_type": "markdown",
   "id": "13239d4a",
   "metadata": {},
   "source": [
    "# Model Selection & Out-of-Sample Evaluation\n",
    "\n",
    "### Model selected: lars (using Lasso lars with alpha = 1.0)"
   ]
  },
  {
   "cell_type": "code",
   "execution_count": 68,
   "id": "4e1154e5",
   "metadata": {},
   "outputs": [
    {
     "name": "stdout",
     "output_type": "stream",
     "text": [
      "RMSE for LassoLars alpha=1.0\n",
      "_____________________________________________      \n",
      "Out-of-Sample Performance: 3.462334481775586\n",
      "Baseline: 19.152\n"
     ]
    }
   ],
   "source": [
    "# Convert y_test Series to a df\n",
    "y_test = pd.DataFrame(y_test)\n",
    "\n",
    "# USE THE THING: predict on test\n",
    "y_test['mortaility_pred_lars'] = lars.predict(X_test)\n",
    "\n",
    "# Evaluate: rmse\n",
    "rmse_test = mean_squared_error(y_test['Infant.Mortality'], y_test.mortaility_pred_lars) ** (.5)\n",
    "\n",
    "print(f\"\"\"RMSE for LassoLars alpha=1.0\n",
    "_____________________________________________      \n",
    "Out-of-Sample Performance: {rmse_test}\n",
    "Baseline: {y_train['Infant.Mortality'].mean()}\"\"\")"
   ]
  },
  {
   "cell_type": "code",
   "execution_count": 71,
   "id": "2fe0cdca",
   "metadata": {},
   "outputs": [
    {
     "data": {
      "image/png": "[encoded data removed]",
      "text/plain": [
       "<Figure size 2600x800 with 1 Axes>"
      ]
     },
     "metadata": {},
     "output_type": "display_data"
    }
   ],
   "source": [
    "plt.figure(figsize=(26,8))\n",
    "#actual vs mean\n",
    "plt.plot(y_validate['Infant.Mortality'], y_validate.baseline_mean, alpha=.5, color=\"gray\", label='_nolegend_')\n",
    "plt.annotate(\"Baseline: Predict Using Mean\", (16, 9.5))\n",
    "\n",
    "#actual vs. actual\n",
    "plt.plot(y_validate['Infant.Mortality'], y_validate['Infant.Mortality'], alpha=.5, color=\"blue\", label='_nolegend_')\n",
    "plt.annotate(\"The Ideal Line: Predicted = Actual\", (.5, 3.5), rotation=15.5)\n",
    "\n",
    "plt.scatter(y_test['Infant.Mortality'], y_test.mortaility_pred_lars, \n",
    "            alpha=.5, color=\"blue\", s=100, label=\"Model: Lasso Lars\")\n",
    "plt.legend()\n",
    "plt.xlabel(\"Actual\")\n",
    "plt.ylabel(\"Predicted\")\n",
    "plt.title(\"Where are predictions more extreme? More modest?\")\n",
    "plt.show()"
   ]
  },
  {
   "cell_type": "code",
   "execution_count": 70,
   "id": "b0c48a42",
   "metadata": {},
   "outputs": [
    {
     "data": {
      "text/html": [
       "<div>\n",
       "<style scoped>\n",
       "    .dataframe tbody tr th:only-of-type {\n",
       "        vertical-align: middle;\n",
       "    }\n",
       "\n",
       "    .dataframe tbody tr th {\n",
       "        vertical-align: top;\n",
       "    }\n",
       "\n",
       "    .dataframe thead th {\n",
       "        text-align: right;\n",
       "    }\n",
       "</style>\n",
       "<table border=\"1\" class=\"dataframe\">\n",
       "  <thead>\n",
       "    <tr style=\"text-align: right;\">\n",
       "      <th></th>\n",
       "      <th>Infant.Mortality</th>\n",
       "      <th>mortaility_pred_lars</th>\n",
       "    </tr>\n",
       "  </thead>\n",
       "  <tbody>\n",
       "    <tr>\n",
       "      <th>Monthey</th>\n",
       "      <td>20.2</td>\n",
       "      <td>18.875842</td>\n",
       "    </tr>\n",
       "    <tr>\n",
       "      <th>Neuchatel</th>\n",
       "      <td>23.0</td>\n",
       "      <td>20.369359</td>\n",
       "    </tr>\n",
       "    <tr>\n",
       "      <th>Porrentruy</th>\n",
       "      <td>26.6</td>\n",
       "      <td>18.423313</td>\n",
       "    </tr>\n",
       "    <tr>\n",
       "      <th>Glane</th>\n",
       "      <td>24.9</td>\n",
       "      <td>21.247592</td>\n",
       "    </tr>\n",
       "    <tr>\n",
       "      <th>Echallens</th>\n",
       "      <td>21.2</td>\n",
       "      <td>19.033105</td>\n",
       "    </tr>\n",
       "    <tr>\n",
       "      <th>Sarine</th>\n",
       "      <td>24.4</td>\n",
       "      <td>20.073551</td>\n",
       "    </tr>\n",
       "    <tr>\n",
       "      <th>Gruyere</th>\n",
       "      <td>21.0</td>\n",
       "      <td>19.457935</td>\n",
       "    </tr>\n",
       "    <tr>\n",
       "      <th>Grandson</th>\n",
       "      <td>20.0</td>\n",
       "      <td>19.913467</td>\n",
       "    </tr>\n",
       "    <tr>\n",
       "      <th>Paysd'enhaut</th>\n",
       "      <td>18.0</td>\n",
       "      <td>20.099669</td>\n",
       "    </tr>\n",
       "    <tr>\n",
       "      <th>Moutier</th>\n",
       "      <td>20.3</td>\n",
       "      <td>21.193303</td>\n",
       "    </tr>\n",
       "  </tbody>\n",
       "</table>\n",
       "</div>"
      ],
      "text/plain": [
       "              Infant.Mortality  mortaility_pred_lars\n",
       "Monthey                   20.2             18.875842\n",
       "Neuchatel                 23.0             20.369359\n",
       "Porrentruy                26.6             18.423313\n",
       "Glane                     24.9             21.247592\n",
       "Echallens                 21.2             19.033105\n",
       "Sarine                    24.4             20.073551\n",
       "Gruyere                   21.0             19.457935\n",
       "Grandson                  20.0             19.913467\n",
       "Paysd'enhaut              18.0             20.099669\n",
       "Moutier                   20.3             21.193303"
      ]
     },
     "execution_count": 70,
     "metadata": {},
     "output_type": "execute_result"
    }
   ],
   "source": [
    "y_test"
   ]
  },
  {
   "cell_type": "code",
   "execution_count": null,
   "id": "518a371c",
   "metadata": {},
   "outputs": [],
   "source": []
  }
 ],
 "metadata": {
  "kernelspec": {
   "display_name": "Python 3 (ipykernel)",
   "language": "python",
   "name": "python3"
  },
  "language_info": {
   "codemirror_mode": {
    "name": "ipython",
    "version": 3
   },
   "file_extension": ".py",
   "mimetype": "text/x-python",
   "name": "python",
   "nbconvert_exporter": "python",
   "pygments_lexer": "ipython3",
   "version": "3.10.9"
  }
 },
 "nbformat": 4,
 "nbformat_minor": 5
}
