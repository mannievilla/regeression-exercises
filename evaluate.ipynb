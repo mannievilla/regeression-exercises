{
 "cells": [
  {
   "cell_type": "code",
   "execution_count": 1,
   "id": "608da534",
   "metadata": {},
   "outputs": [],
   "source": [
    "import numpy as np\n",
    "import pandas as pd\n",
    "\n",
    "import seaborn as sns\n",
    "import matplotlib.pyplot as plt\n",
    "\n",
    "import wrangle as w \n",
    "\n",
    "from scipy import stats\n",
    "from sklearn.metrics import mean_squared_error, r2_score, explained_variance_score\n",
    "\n",
    "from sklearn.model_selection import train_test_split\n",
    "from sklearn.impute import SimpleImputer\n",
    "\n",
    "from sklearn.linear_model import LinearRegression\n",
    "from sklearn.feature_selection import f_regression \n",
    "from math import sqrt\n",
    "import matplotlib.pyplot as plt\n",
    "import warnings\n",
    "warnings.filterwarnings('ignore')"
   ]
  },
  {
   "cell_type": "markdown",
   "id": "1564a14c",
   "metadata": {},
   "source": [
    "## Do you work for this exercise in either a jupyter notebook named evaluate within your regression-exercises repository. By the end of this exercise you will also create a python script named evaluate, so the overall deliverables for this exercise are the python script and jupyter notebook both with the name evaluate within your regression-exercises repo."
   ]
  },
  {
   "cell_type": "markdown",
   "id": "75e047b1",
   "metadata": {},
   "source": [
    "# 1. Load your zillow dataset."
   ]
  },
  {
   "cell_type": "code",
   "execution_count": 2,
   "id": "743a487e",
   "metadata": {},
   "outputs": [
    {
     "name": "stdout",
     "output_type": "stream",
     "text": [
      "train: (1278128, 7)\n",
      "validate: (426043, 7)\n",
      "test: (426043, 7)\n"
     ]
    }
   ],
   "source": [
    "train, validate, test = w.split_clean_zillow()"
   ]
  },
  {
   "cell_type": "markdown",
   "id": "8ae7442b",
   "metadata": {},
   "source": [
    "# 2. Fit a linear regression model (ordinary least squares) and compute yhat, predictions of taxvaluedollarcnt using only calculatedfinishedsqft."
   ]
  },
  {
   "cell_type": "markdown",
   "id": "0bedf26e",
   "metadata": {},
   "source": [
    "## Here is some sample code to get you started:"
   ]
  },
  {
   "cell_type": "markdown",
   "id": "5939ecce",
   "metadata": {},
   "source": [
    "```from sklearn.linear_model import LinearRegression```\n",
    "\n",
    "```#assuming X and y are already defined```\n",
    "\n",
    "```model = LinearRegression().fit(X, y)```\n",
    "\n",
    "```predictions = model.predict(X)```"
   ]
  },
  {
   "cell_type": "markdown",
   "id": "5b827a6c",
   "metadata": {},
   "source": [
    "## Modify and add to the code above as necessary for it to work with the zillow dataset."
   ]
  },
  {
   "cell_type": "code",
   "execution_count": 3,
   "id": "f23b30a7",
   "metadata": {},
   "outputs": [],
   "source": [
    "#drop extra columns\n",
    "train = train.drop(columns=['bedrooms','bathrooms',\n",
    "                    'year_built','sale_tax', 'fips'])"
   ]
  },
  {
   "cell_type": "code",
   "execution_count": 4,
   "id": "a163dab4",
   "metadata": {},
   "outputs": [],
   "source": [
    "from sklearn.preprocessing import MinMaxScaler"
   ]
  },
  {
   "cell_type": "code",
   "execution_count": 5,
   "id": "fd2257af",
   "metadata": {},
   "outputs": [],
   "source": [
    "# create the scaler and fit/transform my square footage column\n",
    "mms = MinMaxScaler()\n",
    "\n",
    "train['sqft'] = mms.fit_transform(train[['sqft']])"
   ]
  },
  {
   "cell_type": "code",
   "execution_count": 6,
   "id": "97967156",
   "metadata": {},
   "outputs": [
    {
     "data": {
      "text/html": [
       "<div>\n",
       "<style scoped>\n",
       "    .dataframe tbody tr th:only-of-type {\n",
       "        vertical-align: middle;\n",
       "    }\n",
       "\n",
       "    .dataframe tbody tr th {\n",
       "        vertical-align: top;\n",
       "    }\n",
       "\n",
       "    .dataframe thead th {\n",
       "        text-align: right;\n",
       "    }\n",
       "</style>\n",
       "<table border=\"1\" class=\"dataframe\">\n",
       "  <thead>\n",
       "    <tr style=\"text-align: right;\">\n",
       "      <th></th>\n",
       "      <th>sqft</th>\n",
       "      <th>home_value</th>\n",
       "    </tr>\n",
       "  </thead>\n",
       "  <tbody>\n",
       "    <tr>\n",
       "      <th>107815</th>\n",
       "      <td>0.001553</td>\n",
       "      <td>239760.0</td>\n",
       "    </tr>\n",
       "    <tr>\n",
       "      <th>304808</th>\n",
       "      <td>0.003004</td>\n",
       "      <td>1791635.0</td>\n",
       "    </tr>\n",
       "    <tr>\n",
       "      <th>2036858</th>\n",
       "      <td>0.001881</td>\n",
       "      <td>223027.0</td>\n",
       "    </tr>\n",
       "    <tr>\n",
       "      <th>802962</th>\n",
       "      <td>0.001668</td>\n",
       "      <td>422110.0</td>\n",
       "    </tr>\n",
       "    <tr>\n",
       "      <th>1662966</th>\n",
       "      <td>0.002042</td>\n",
       "      <td>434229.0</td>\n",
       "    </tr>\n",
       "  </tbody>\n",
       "</table>\n",
       "</div>"
      ],
      "text/plain": [
       "             sqft  home_value\n",
       "107815   0.001553    239760.0\n",
       "304808   0.003004   1791635.0\n",
       "2036858  0.001881    223027.0\n",
       "802962   0.001668    422110.0\n",
       "1662966  0.002042    434229.0"
      ]
     },
     "execution_count": 6,
     "metadata": {},
     "output_type": "execute_result"
    }
   ],
   "source": [
    "train.head()"
   ]
  },
  {
   "cell_type": "code",
   "execution_count": 7,
   "id": "c43042dc",
   "metadata": {},
   "outputs": [
    {
     "data": {
      "text/plain": [
       "0.0"
      ]
     },
     "execution_count": 7,
     "metadata": {},
     "output_type": "execute_result"
    }
   ],
   "source": [
    "train.sqft.min()"
   ]
  },
  {
   "cell_type": "code",
   "execution_count": 8,
   "id": "5b8f1738",
   "metadata": {},
   "outputs": [
    {
     "data": {
      "text/plain": [
       "1.0"
      ]
     },
     "execution_count": 8,
     "metadata": {},
     "output_type": "execute_result"
    }
   ],
   "source": [
    "train.sqft.max()"
   ]
  },
  {
   "cell_type": "code",
   "execution_count": 9,
   "id": "e6855aa1",
   "metadata": {},
   "outputs": [],
   "source": [
    "#split into my X_train and y_train\n",
    "X_train = train[['sqft']]\n",
    "y_train = train.home_value\n",
    "\n",
    "X_validate = validate[['sqft']]\n",
    "y_validate = validate.home_value\n",
    "\n",
    "X_test = test[['sqft']]\n",
    "y_test = test.home_value"
   ]
  },
  {
   "cell_type": "code",
   "execution_count": 10,
   "id": "38554d9f",
   "metadata": {},
   "outputs": [
    {
     "data": {
      "text/html": [
       "<div>\n",
       "<style scoped>\n",
       "    .dataframe tbody tr th:only-of-type {\n",
       "        vertical-align: middle;\n",
       "    }\n",
       "\n",
       "    .dataframe tbody tr th {\n",
       "        vertical-align: top;\n",
       "    }\n",
       "\n",
       "    .dataframe thead th {\n",
       "        text-align: right;\n",
       "    }\n",
       "</style>\n",
       "<table border=\"1\" class=\"dataframe\">\n",
       "  <thead>\n",
       "    <tr style=\"text-align: right;\">\n",
       "      <th></th>\n",
       "      <th>sqft</th>\n",
       "    </tr>\n",
       "  </thead>\n",
       "  <tbody>\n",
       "    <tr>\n",
       "      <th>107815</th>\n",
       "      <td>0.001553</td>\n",
       "    </tr>\n",
       "    <tr>\n",
       "      <th>304808</th>\n",
       "      <td>0.003004</td>\n",
       "    </tr>\n",
       "    <tr>\n",
       "      <th>2036858</th>\n",
       "      <td>0.001881</td>\n",
       "    </tr>\n",
       "    <tr>\n",
       "      <th>802962</th>\n",
       "      <td>0.001668</td>\n",
       "    </tr>\n",
       "    <tr>\n",
       "      <th>1662966</th>\n",
       "      <td>0.002042</td>\n",
       "    </tr>\n",
       "  </tbody>\n",
       "</table>\n",
       "</div>"
      ],
      "text/plain": [
       "             sqft\n",
       "107815   0.001553\n",
       "304808   0.003004\n",
       "2036858  0.001881\n",
       "802962   0.001668\n",
       "1662966  0.002042"
      ]
     },
     "execution_count": 10,
     "metadata": {},
     "output_type": "execute_result"
    }
   ],
   "source": [
    "X_train.head()"
   ]
  },
  {
   "cell_type": "code",
   "execution_count": 11,
   "id": "b0387ed7",
   "metadata": {},
   "outputs": [
    {
     "data": {
      "text/plain": [
       "107815      239760.0\n",
       "304808     1791635.0\n",
       "2036858     223027.0\n",
       "802962      422110.0\n",
       "1662966     434229.0\n",
       "Name: home_value, dtype: float64"
      ]
     },
     "execution_count": 11,
     "metadata": {},
     "output_type": "execute_result"
    }
   ],
   "source": [
    "y_train.head()"
   ]
  },
  {
   "cell_type": "code",
   "execution_count": 12,
   "id": "304aa848",
   "metadata": {},
   "outputs": [],
   "source": [
    "#make my ols model\n",
    "from sklearn.linear_model import LinearRegression\n",
    "\n",
    "model = LinearRegression().fit(X_train, y_train)\n",
    "predictions = model.predict(X_train)"
   ]
  },
  {
   "cell_type": "code",
   "execution_count": 13,
   "id": "a86271d8",
   "metadata": {},
   "outputs": [
    {
     "data": {
      "text/plain": [
       "array([368351.35340969, 703991.8530067 , 444313.375372  , ...,\n",
       "       416889.38661244, 291903.95111537, 957360.38632505])"
      ]
     },
     "execution_count": 13,
     "metadata": {},
     "output_type": "execute_result"
    }
   ],
   "source": [
    "predictions"
   ]
  },
  {
   "cell_type": "code",
   "execution_count": 14,
   "id": "1dfa3712",
   "metadata": {},
   "outputs": [],
   "source": [
    "#save predictions into train df\n",
    "train['yhat'] = predictions"
   ]
  },
  {
   "cell_type": "markdown",
   "id": "56d94f0e",
   "metadata": {},
   "source": [
    "## 3. Plot the residuals for the linear regression model that you made."
   ]
  },
  {
   "cell_type": "code",
   "execution_count": 15,
   "id": "4ef41a6c",
   "metadata": {},
   "outputs": [],
   "source": [
    "#calculate residuals (acutal - prediction)\n",
    "train['residuals'] = train.home_value - train.yhat"
   ]
  },
  {
   "cell_type": "code",
   "execution_count": 16,
   "id": "46760b60",
   "metadata": {},
   "outputs": [
    {
     "data": {
      "text/html": [
       "<div>\n",
       "<style scoped>\n",
       "    .dataframe tbody tr th:only-of-type {\n",
       "        vertical-align: middle;\n",
       "    }\n",
       "\n",
       "    .dataframe tbody tr th {\n",
       "        vertical-align: top;\n",
       "    }\n",
       "\n",
       "    .dataframe thead th {\n",
       "        text-align: right;\n",
       "    }\n",
       "</style>\n",
       "<table border=\"1\" class=\"dataframe\">\n",
       "  <thead>\n",
       "    <tr style=\"text-align: right;\">\n",
       "      <th></th>\n",
       "      <th>sqft</th>\n",
       "      <th>home_value</th>\n",
       "      <th>yhat</th>\n",
       "      <th>residuals</th>\n",
       "    </tr>\n",
       "  </thead>\n",
       "  <tbody>\n",
       "    <tr>\n",
       "      <th>107815</th>\n",
       "      <td>0.001553</td>\n",
       "      <td>239760.0</td>\n",
       "      <td>368351.353410</td>\n",
       "      <td>-1.285914e+05</td>\n",
       "    </tr>\n",
       "    <tr>\n",
       "      <th>304808</th>\n",
       "      <td>0.003004</td>\n",
       "      <td>1791635.0</td>\n",
       "      <td>703991.853007</td>\n",
       "      <td>1.087643e+06</td>\n",
       "    </tr>\n",
       "    <tr>\n",
       "      <th>2036858</th>\n",
       "      <td>0.001881</td>\n",
       "      <td>223027.0</td>\n",
       "      <td>444313.375372</td>\n",
       "      <td>-2.212864e+05</td>\n",
       "    </tr>\n",
       "    <tr>\n",
       "      <th>802962</th>\n",
       "      <td>0.001668</td>\n",
       "      <td>422110.0</td>\n",
       "      <td>395047.271671</td>\n",
       "      <td>2.706273e+04</td>\n",
       "    </tr>\n",
       "    <tr>\n",
       "      <th>1662966</th>\n",
       "      <td>0.002042</td>\n",
       "      <td>434229.0</td>\n",
       "      <td>481444.970772</td>\n",
       "      <td>-4.721597e+04</td>\n",
       "    </tr>\n",
       "  </tbody>\n",
       "</table>\n",
       "</div>"
      ],
      "text/plain": [
       "             sqft  home_value           yhat     residuals\n",
       "107815   0.001553    239760.0  368351.353410 -1.285914e+05\n",
       "304808   0.003004   1791635.0  703991.853007  1.087643e+06\n",
       "2036858  0.001881    223027.0  444313.375372 -2.212864e+05\n",
       "802962   0.001668    422110.0  395047.271671  2.706273e+04\n",
       "1662966  0.002042    434229.0  481444.970772 -4.721597e+04"
      ]
     },
     "execution_count": 16,
     "metadata": {},
     "output_type": "execute_result"
    }
   ],
   "source": [
    "train.head()"
   ]
  },
  {
   "cell_type": "code",
   "execution_count": 17,
   "id": "38dfb70f",
   "metadata": {},
   "outputs": [
    {
     "data": {
      "image/png": "[encoded data removed]",
      "text/plain": [
       "<Figure size 640x480 with 1 Axes>"
      ]
     },
     "metadata": {},
     "output_type": "display_data"
    }
   ],
   "source": [
    "#make scatterplot of y-value vs residuals\n",
    "sns.scatterplot(data=train, x='home_value', y='residuals')\n",
    "\n",
    "plt.xlabel('Home Value')\n",
    "plt.ylabel('Residuals')\n",
    "plt.title('Residual vs Home Value Plot')\n",
    "plt.show()\n"
   ]
  },
  {
   "cell_type": "markdown",
   "id": "1e58eb37",
   "metadata": {},
   "source": [
    "## 4. Calculate the sum of squared errors, explained sum of squares, total sum of squares, mean squared error, and root mean squared error for your model."
   ]
  },
  {
   "cell_type": "code",
   "execution_count": 18,
   "id": "c35ea7e2",
   "metadata": {},
   "outputs": [],
   "source": [
    "from sklearn.metrics import mean_squared_error"
   ]
  },
  {
   "cell_type": "markdown",
   "id": "eb45f523",
   "metadata": {},
   "source": [
    "## MSE - mean squared error"
   ]
  },
  {
   "cell_type": "code",
   "execution_count": 19,
   "id": "5dd0f195",
   "metadata": {},
   "outputs": [
    {
     "data": {
      "text/plain": [
       "357135154606.70276"
      ]
     },
     "execution_count": 19,
     "metadata": {},
     "output_type": "execute_result"
    }
   ],
   "source": [
    "MSE = mean_squared_error(train.home_value, train.yhat)\n",
    "MSE"
   ]
  },
  {
   "cell_type": "markdown",
   "id": "449742ce",
   "metadata": {},
   "source": [
    "## SSE - sum or squared errors"
   ]
  },
  {
   "cell_type": "code",
   "execution_count": 20,
   "id": "55a4ffbe",
   "metadata": {},
   "outputs": [
    {
     "data": {
      "text/plain": [
       "4.564644408871558e+17"
      ]
     },
     "execution_count": 20,
     "metadata": {},
     "output_type": "execute_result"
    }
   ],
   "source": [
    "SSE = MSE * len(train)\n",
    "SSE"
   ]
  },
  {
   "cell_type": "markdown",
   "id": "0cc60d9d",
   "metadata": {},
   "source": [
    "## RMSE - root mean squared eror"
   ]
  },
  {
   "cell_type": "code",
   "execution_count": 21,
   "id": "a9f06eec",
   "metadata": {},
   "outputs": [
    {
     "data": {
      "text/plain": [
       "597607.8602283463"
      ]
     },
     "execution_count": 21,
     "metadata": {},
     "output_type": "execute_result"
    }
   ],
   "source": [
    "RMSE = MSE**.5\n",
    "RMSE"
   ]
  },
  {
   "cell_type": "markdown",
   "id": "983d1acd",
   "metadata": {},
   "source": [
    "## ESS - explained sum of squares"
   ]
  },
  {
   "cell_type": "code",
   "execution_count": 22,
   "id": "e2c068bb",
   "metadata": {},
   "outputs": [
    {
     "data": {
      "text/plain": [
       "1.2420977181316771e+17"
      ]
     },
     "execution_count": 22,
     "metadata": {},
     "output_type": "execute_result"
    }
   ],
   "source": [
    "ESS = ((train.yhat - train.home_value.mean())**2).sum()\n",
    "ESS"
   ]
  },
  {
   "cell_type": "markdown",
   "id": "a855dd7b",
   "metadata": {},
   "source": [
    "## TSS - total sum of squares"
   ]
  },
  {
   "cell_type": "code",
   "execution_count": 23,
   "id": "f41eefc3",
   "metadata": {},
   "outputs": [
    {
     "data": {
      "text/plain": [
       "5.806742127003235e+17"
      ]
     },
     "execution_count": 23,
     "metadata": {},
     "output_type": "execute_result"
    }
   ],
   "source": [
    "TSS = ESS + SSE\n",
    "TSS"
   ]
  },
  {
   "cell_type": "markdown",
   "id": "ad69cc0b",
   "metadata": {},
   "source": [
    "## 5. Calculate the sum of squared errors, mean squared error, and root mean squared error for the baseline model (i.e. a model that always predicts the average taxvaluedollarcnt amount)."
   ]
  },
  {
   "cell_type": "code",
   "execution_count": 24,
   "id": "5cb96743",
   "metadata": {},
   "outputs": [],
   "source": [
    "train['baseline'] = train.home_value.mean()"
   ]
  },
  {
   "cell_type": "code",
   "execution_count": 25,
   "id": "d27e10cd",
   "metadata": {},
   "outputs": [
    {
     "data": {
      "text/html": [
       "<div>\n",
       "<style scoped>\n",
       "    .dataframe tbody tr th:only-of-type {\n",
       "        vertical-align: middle;\n",
       "    }\n",
       "\n",
       "    .dataframe tbody tr th {\n",
       "        vertical-align: top;\n",
       "    }\n",
       "\n",
       "    .dataframe thead th {\n",
       "        text-align: right;\n",
       "    }\n",
       "</style>\n",
       "<table border=\"1\" class=\"dataframe\">\n",
       "  <thead>\n",
       "    <tr style=\"text-align: right;\">\n",
       "      <th></th>\n",
       "      <th>sqft</th>\n",
       "      <th>home_value</th>\n",
       "      <th>yhat</th>\n",
       "      <th>residuals</th>\n",
       "      <th>baseline</th>\n",
       "    </tr>\n",
       "  </thead>\n",
       "  <tbody>\n",
       "    <tr>\n",
       "      <th>107815</th>\n",
       "      <td>0.001553</td>\n",
       "      <td>239760.0</td>\n",
       "      <td>368351.353410</td>\n",
       "      <td>-1.285914e+05</td>\n",
       "      <td>461552.518428</td>\n",
       "    </tr>\n",
       "    <tr>\n",
       "      <th>304808</th>\n",
       "      <td>0.003004</td>\n",
       "      <td>1791635.0</td>\n",
       "      <td>703991.853007</td>\n",
       "      <td>1.087643e+06</td>\n",
       "      <td>461552.518428</td>\n",
       "    </tr>\n",
       "    <tr>\n",
       "      <th>2036858</th>\n",
       "      <td>0.001881</td>\n",
       "      <td>223027.0</td>\n",
       "      <td>444313.375372</td>\n",
       "      <td>-2.212864e+05</td>\n",
       "      <td>461552.518428</td>\n",
       "    </tr>\n",
       "    <tr>\n",
       "      <th>802962</th>\n",
       "      <td>0.001668</td>\n",
       "      <td>422110.0</td>\n",
       "      <td>395047.271671</td>\n",
       "      <td>2.706273e+04</td>\n",
       "      <td>461552.518428</td>\n",
       "    </tr>\n",
       "    <tr>\n",
       "      <th>1662966</th>\n",
       "      <td>0.002042</td>\n",
       "      <td>434229.0</td>\n",
       "      <td>481444.970772</td>\n",
       "      <td>-4.721597e+04</td>\n",
       "      <td>461552.518428</td>\n",
       "    </tr>\n",
       "  </tbody>\n",
       "</table>\n",
       "</div>"
      ],
      "text/plain": [
       "             sqft  home_value           yhat     residuals       baseline\n",
       "107815   0.001553    239760.0  368351.353410 -1.285914e+05  461552.518428\n",
       "304808   0.003004   1791635.0  703991.853007  1.087643e+06  461552.518428\n",
       "2036858  0.001881    223027.0  444313.375372 -2.212864e+05  461552.518428\n",
       "802962   0.001668    422110.0  395047.271671  2.706273e+04  461552.518428\n",
       "1662966  0.002042    434229.0  481444.970772 -4.721597e+04  461552.518428"
      ]
     },
     "execution_count": 25,
     "metadata": {},
     "output_type": "execute_result"
    }
   ],
   "source": [
    "train.head()"
   ]
  },
  {
   "cell_type": "markdown",
   "id": "62f09a91",
   "metadata": {},
   "source": [
    "## MSE"
   ]
  },
  {
   "cell_type": "code",
   "execution_count": 26,
   "id": "3958db7d",
   "metadata": {},
   "outputs": [
    {
     "data": {
      "text/plain": [
       "454316166065.21375"
      ]
     },
     "execution_count": 26,
     "metadata": {},
     "output_type": "execute_result"
    }
   ],
   "source": [
    "MSE_baseline = mean_squared_error(train.home_value, train.baseline)\n",
    "MSE_baseline"
   ]
  },
  {
   "cell_type": "markdown",
   "id": "27437607",
   "metadata": {},
   "source": [
    "## SSE"
   ]
  },
  {
   "cell_type": "code",
   "execution_count": 27,
   "id": "1e011228",
   "metadata": {},
   "outputs": [
    {
     "data": {
      "text/plain": [
       "5.806742127005996e+17"
      ]
     },
     "execution_count": 27,
     "metadata": {},
     "output_type": "execute_result"
    }
   ],
   "source": [
    "SSE_baseline = MSE_baseline * len(train)\n",
    "SSE_baseline"
   ]
  },
  {
   "cell_type": "markdown",
   "id": "c28bd9a0",
   "metadata": {},
   "source": [
    "## RSME"
   ]
  },
  {
   "cell_type": "code",
   "execution_count": 28,
   "id": "6097eb06",
   "metadata": {},
   "outputs": [
    {
     "data": {
      "text/plain": [
       "674029.7961256711"
      ]
     },
     "execution_count": 28,
     "metadata": {},
     "output_type": "execute_result"
    }
   ],
   "source": [
    "RMSE_baseline = MSE_baseline**.5\n",
    "RMSE_baseline"
   ]
  },
  {
   "cell_type": "markdown",
   "id": "834bfe17",
   "metadata": {},
   "source": [
    "## 6. Write python code that compares the sum of squared errors for your model against the sum of squared errors for the baseline model and outputs whether or not your model performs better than the baseline model."
   ]
  },
  {
   "cell_type": "code",
   "execution_count": 29,
   "id": "799455ca",
   "metadata": {},
   "outputs": [
    {
     "name": "stdout",
     "output_type": "stream",
     "text": [
      "My OSL model performs better than baseline\n"
     ]
    }
   ],
   "source": [
    "if SSE < SSE_baseline:\n",
    "    print('My OSL model performs better than baseline')\n",
    "else:\n",
    "    print('My OSL model performs worse than baseline. :( )')\n",
    "\n",
    "    "
   ]
  },
  {
   "cell_type": "markdown",
   "id": "924ddd6e",
   "metadata": {},
   "source": [
    "## 7. What is the amount of variance explained in your model?"
   ]
  },
  {
   "cell_type": "code",
   "execution_count": 30,
   "id": "a7eb0237",
   "metadata": {},
   "outputs": [
    {
     "data": {
      "text/plain": [
       "0.21390612687198898"
      ]
     },
     "execution_count": 30,
     "metadata": {},
     "output_type": "execute_result"
    }
   ],
   "source": [
    "#manually\n",
    "R2 = ESS / TSS\n",
    "R2"
   ]
  },
  {
   "cell_type": "code",
   "execution_count": 31,
   "id": "29fc7bef",
   "metadata": {},
   "outputs": [],
   "source": [
    "from sklearn.metrics import r2_score"
   ]
  },
  {
   "cell_type": "code",
   "execution_count": 32,
   "id": "7a0e8179",
   "metadata": {},
   "outputs": [
    {
     "data": {
      "text/plain": [
       "0.21390612687236266"
      ]
     },
     "execution_count": 32,
     "metadata": {},
     "output_type": "execute_result"
    }
   ],
   "source": [
    "#from sklearn\n",
    "r2_score(train.home_value, train.yhat)"
   ]
  },
  {
   "cell_type": "markdown",
   "id": "9ad0fea0",
   "metadata": {},
   "source": [
    "## 8. Is your model better than the baseline model?"
   ]
  },
  {
   "cell_type": "code",
   "execution_count": 33,
   "id": "6e443d97",
   "metadata": {},
   "outputs": [
    {
     "data": {
      "text/plain": [
       "76421.93589732482"
      ]
     },
     "execution_count": 33,
     "metadata": {},
     "output_type": "execute_result"
    }
   ],
   "source": [
    "RMSE_baseline - RMSE"
   ]
  },
  {
   "cell_type": "markdown",
   "id": "7909a37e",
   "metadata": {},
   "source": [
    "it is better, but its still pretty bad and we probably don't want to use it"
   ]
  },
  {
   "cell_type": "markdown",
   "id": "078af323",
   "metadata": {},
   "source": [
    "## 9.Create a file named evaluate.py that contains the following functions."
   ]
  },
  {
   "cell_type": "markdown",
   "id": "86a1613e",
   "metadata": {},
   "source": [
    " * plot_residuals(y, yhat): creates a residual plot\n",
    " * regression_errors(y, yhat): returns the following values:\n",
    "    + sum of squared errors (SSE)\n",
    "    + explained sum of squares (ESS)\n",
    "    + total sum of squares (TSS)\n",
    "    + mean squared error (MSE)\n",
    " * root mean squared error (RMSE)\n",
    " * baseline_mean_errors(y): computes the SSE, MSE, and RMSE for the baseline model\n",
    " * better_than_baseline(y, yhat): returns true if your model performs better than the baseline, otherwise false"
   ]
  },
  {
   "cell_type": "code",
   "execution_count": 34,
   "id": "3258e4bd",
   "metadata": {},
   "outputs": [],
   "source": [
    "def plot_residuals(y, yhat):\n",
    "    residuals = y - yhat\n",
    "    \n",
    "    plt.scatter(x=y, y=residuals)\n",
    "    plt.xlabel('Home Value')\n",
    "    plt.ylabel('Residuals')\n",
    "    plt.title('Residual vs Home Value Plot')\n",
    "    plt.show()"
   ]
  },
  {
   "cell_type": "code",
   "execution_count": 35,
   "id": "50c5d10c",
   "metadata": {},
   "outputs": [
    {
     "data": {
      "image/png": "[encoded data removed]",
      "text/plain": [
       "<Figure size 640x480 with 1 Axes>"
      ]
     },
     "metadata": {},
     "output_type": "display_data"
    }
   ],
   "source": [
    "plot_residuals(train.home_value, train.yhat)"
   ]
  },
  {
   "cell_type": "code",
   "execution_count": 36,
   "id": "eab62d65",
   "metadata": {},
   "outputs": [],
   "source": [
    "def regression_errors(y, yhat):\n",
    "    MSE = mean_squared_error(y, yhat)\n",
    "    SSE = MSE * len(y)\n",
    "    RMSE = MSE**.5\n",
    "    \n",
    "    ESS = ((yhat - y.mean())**2).sum()\n",
    "    TSS = ESS + SSE\n",
    "    \n",
    "    return SSE, ESS, TSS, MSE, RMSE"
   ]
  },
  {
   "cell_type": "code",
   "execution_count": 37,
   "id": "ba497f98",
   "metadata": {
    "scrolled": true
   },
   "outputs": [
    {
     "data": {
      "text/plain": [
       "(4.564644408871558e+17,\n",
       " 1.2420977181316771e+17,\n",
       " 5.806742127003235e+17,\n",
       " 357135154606.70276,\n",
       " 597607.8602283463)"
      ]
     },
     "execution_count": 37,
     "metadata": {},
     "output_type": "execute_result"
    }
   ],
   "source": [
    "regression_errors(train.home_value, train.yhat)"
   ]
  },
  {
   "cell_type": "code",
   "execution_count": 42,
   "id": "9e145220",
   "metadata": {},
   "outputs": [],
   "source": [
    "def baseline_mean_errors(y):\n",
    "    baseline = np.repeat(y.mean(), len(y))\n",
    "    \n",
    "    MSE = mean_squared_error(y, baseline)\n",
    "    SSE = MSE * len(y)\n",
    "    RMSE = MSE**.5\n",
    "    \n",
    "    return SSE, MSE, RMSE"
   ]
  },
  {
   "cell_type": "code",
   "execution_count": 44,
   "id": "64193754",
   "metadata": {},
   "outputs": [
    {
     "data": {
      "text/plain": [
       "(5.806742127005996e+17, 454316166065.21375, 674029.7961256711)"
      ]
     },
     "execution_count": 44,
     "metadata": {},
     "output_type": "execute_result"
    }
   ],
   "source": [
    "baseline_mean_errors(train.home_value)"
   ]
  },
  {
   "cell_type": "code",
   "execution_count": 45,
   "id": "fd141f6c",
   "metadata": {},
   "outputs": [],
   "source": [
    "def better_than_baseline(y, yhat):\n",
    "    SSE, ESS, TSS, MSE, RMSE = regression_errors(y, yhat)\n",
    "    \n",
    "    SSE_baseline, MSE_baseline, RMSE_baseline = baseline_mean_errors(y)\n",
    "    \n",
    "    if SSE < SSE_baseline:\n",
    "        print('My OSL model performs better than baseline')\n",
    "    else:\n",
    "        print('My OSL model performs worse than baseline. :( )')"
   ]
  },
  {
   "cell_type": "code",
   "execution_count": 46,
   "id": "33d50e5d",
   "metadata": {},
   "outputs": [
    {
     "name": "stdout",
     "output_type": "stream",
     "text": [
      "My OSL model performs better than baseline\n"
     ]
    }
   ],
   "source": [
    "better_than_baseline(train.home_value, train.yhat)"
   ]
  }
 ],
 "metadata": {
  "kernelspec": {
   "display_name": "Python 3 (ipykernel)",
   "language": "python",
   "name": "python3"
  },
  "language_info": {
   "codemirror_mode": {
    "name": "ipython",
    "version": 3
   },
   "file_extension": ".py",
   "mimetype": "text/x-python",
   "name": "python",
   "nbconvert_exporter": "python",
   "pygments_lexer": "ipython3",
   "version": "3.10.9"
  }
 },
 "nbformat": 4,
 "nbformat_minor": 5
}
